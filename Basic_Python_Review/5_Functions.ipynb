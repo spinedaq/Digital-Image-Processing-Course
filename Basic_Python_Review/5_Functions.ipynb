{
  "nbformat": 4,
  "nbformat_minor": 0,
  "metadata": {
    "colab": {
      "provenance": [],
      "include_colab_link": true
    },
    "kernelspec": {
      "name": "python3",
      "display_name": "Python 3"
    },
    "language_info": {
      "name": "python"
    }
  },
  "cells": [
    {
      "cell_type": "markdown",
      "metadata": {
        "id": "view-in-github",
        "colab_type": "text"
      },
      "source": [
        "<a href=\"https://colab.research.google.com/github/amalvarezme/Python_Basics/blob/main/5_Functions.ipynb\" target=\"_parent\"><img src=\"https://colab.research.google.com/assets/colab-badge.svg\" alt=\"Open In Colab\"/></a>"
      ]
    },
    {
      "cell_type": "markdown",
      "source": [
        "Functions are blocks of code that can be reused in different parts of a program. They are useful because they allow us to avoid code repetition and make our code more modular and easy to read.\n",
        "\n",
        "In Python, functions are defined using the def keyword, followed by the function name and a list of arguments in parentheses. The body of the function goes after, indented.\n",
        "\n",
        "For example, here's a simple function that takes two arguments and returns their sum:"
      ],
      "metadata": {
        "id": "S7bKHe0V-ktK"
      }
    },
    {
      "cell_type": "code",
      "execution_count": 1,
      "metadata": {
        "id": "9bwPSLJH91gF"
      },
      "outputs": [],
      "source": [
        "def add(a, b):\n",
        "    return a + b\n"
      ]
    },
    {
      "cell_type": "markdown",
      "source": [
        "We can call this function as follows:\n",
        "\n"
      ],
      "metadata": {
        "id": "rcjU06-j-ouc"
      }
    },
    {
      "cell_type": "code",
      "source": [
        "result = add(3, 4)\n",
        "print(result) # output: 7\n"
      ],
      "metadata": {
        "id": "0HtHH2uz-uyg",
        "colab": {
          "base_uri": "https://localhost:8080/"
        },
        "outputId": "2ecf5cd7-b818-4090-9baf-4f5fa163952d"
      },
      "execution_count": 2,
      "outputs": [
        {
          "output_type": "stream",
          "name": "stdout",
          "text": [
            "7\n"
          ]
        }
      ]
    },
    {
      "cell_type": "markdown",
      "source": [
        "In this example, we passed the arguments 3 and 4 to the add function, which returned 7. We then stored the result in a variable called result and printed it to the screen."
      ],
      "metadata": {
        "id": "aOgQWQwL-wHt"
      }
    },
    {
      "cell_type": "markdown",
      "source": [
        "##Function Arguments"
      ],
      "metadata": {
        "id": "Wb92IaCNAJ0Y"
      }
    },
    {
      "cell_type": "markdown",
      "source": [
        "In Python, there are different types of arguments that we can pass to a function. Arguments are defined in the list of parameters of the function, separated by commas."
      ],
      "metadata": {
        "id": "FwFmcZ7rAQG3"
      }
    },
    {
      "cell_type": "markdown",
      "source": [
        "###Positional Arguments"
      ],
      "metadata": {
        "id": "sJj8Q_hCAUot"
      }
    },
    {
      "cell_type": "markdown",
      "source": [
        "Positional arguments are those that are passed to a function in the order they appear in the parameter list. For example, in the add(a, b) function above, a is the first positional argument and b is the second."
      ],
      "metadata": {
        "id": "5bJ15-CpAct-"
      }
    },
    {
      "cell_type": "markdown",
      "source": [
        "###Default Value Arguments"
      ],
      "metadata": {
        "id": "ha4yexfwAk-6"
      }
    },
    {
      "cell_type": "markdown",
      "source": [
        "Default value arguments are those that have a default value assigned in the parameter list. If the argument is not provided when calling the function, its default value is used. For example, here's a function that takes a positional argument and a default value argument:"
      ],
      "metadata": {
        "id": "fZ-SOVgYAovN"
      }
    },
    {
      "cell_type": "code",
      "source": [
        "def greet(name, greeting=\"Hello\"):\n",
        "    print(greeting + \", \" + name + \"!\")\n",
        "\n",
        "# Example usage\n",
        "greet(\"Juan\")  # Output: Hello, Juan!\n",
        "\n",
        "name = input(\"Enter your name: \")\n",
        "greet(name)  # Output: Hello, [name entered]!"
      ],
      "metadata": {
        "id": "5NazaGuK_eSO",
        "colab": {
          "base_uri": "https://localhost:8080/"
        },
        "outputId": "8276b9fc-e0ca-4804-c1b5-69917eee9f13"
      },
      "execution_count": null,
      "outputs": [
        {
          "output_type": "stream",
          "name": "stdout",
          "text": [
            "Hello, Juan!\n",
            "Enter your name: Brian\n",
            "Hello, Brian!\n"
          ]
        }
      ]
    },
    {
      "cell_type": "markdown",
      "source": [
        "If we call this function with greet(\"John\"), the output will be Hello, John!. If we call the function with greet(\"Peter\", \"Good morning\"), the output will be Good morning, Peter!."
      ],
      "metadata": {
        "id": "0JKqNTPIAxnq"
      }
    },
    {
      "cell_type": "markdown",
      "source": [
        "### Variable-Length Arguments"
      ],
      "metadata": {
        "id": "mJYjb7QLA13X"
      }
    },
    {
      "cell_type": "markdown",
      "source": [
        "Sometimes we want to pass a variable amount of arguments to a function. In Python, we can do this using variable-length arguments."
      ],
      "metadata": {
        "id": "k28bUldiA7NL"
      }
    },
    {
      "cell_type": "markdown",
      "source": [
        "####Variable Positional Arguments\n",
        "Variable positional arguments are defined with an asterisk (*) before the argument name in the parameter list. This indicates that the function accepts a variable number of positional arguments. For example:"
      ],
      "metadata": {
        "id": "5waAk76PA_nw"
      }
    },
    {
      "cell_type": "code",
      "source": [
        "def print_names(*names):\n",
        "    for name in names:\n",
        "        print(name)\n"
      ],
      "metadata": {
        "id": "iANwE0kGBEmd"
      },
      "execution_count": null,
      "outputs": []
    },
    {
      "cell_type": "markdown",
      "source": [
        "This function takes a variable number of positional arguments and prints them to the screen. We can call the function with any number of arguments:"
      ],
      "metadata": {
        "id": "GihiUzY2BHJW"
      }
    },
    {
      "cell_type": "code",
      "source": [
        "print_names(\"John\", \"Peter\", \"Mary\") # output: John Peter Mary\n",
        "print_names(\"Charles\") # output: Charles\n",
        "print_names() # output:\n"
      ],
      "metadata": {
        "id": "Di0ZxLoeBLtQ",
        "colab": {
          "base_uri": "https://localhost:8080/"
        },
        "outputId": "9fc0a030-402a-48b6-8eb3-9f2635856aff"
      },
      "execution_count": null,
      "outputs": [
        {
          "output_type": "stream",
          "name": "stdout",
          "text": [
            "John\n",
            "Peter\n",
            "Mary\n",
            "Charles\n"
          ]
        }
      ]
    },
    {
      "cell_type": "markdown",
      "source": [
        "####Variable Keyword Arguments\n",
        "Variable keyword arguments are defined with two asterisks (**) before the argument name in the parameter list. This indicates that the function accepts a variable number of keyword arguments. For example:"
      ],
      "metadata": {
        "id": "PfP5NFypBMbw"
      }
    },
    {
      "cell_type": "code",
      "source": [
        "def print_kwargs(**kwargs):\n",
        "    for key, value in kwargs.items():\n",
        "        print(key + \": \" + value)\n"
      ],
      "metadata": {
        "id": "MFtyekZaBPtf"
      },
      "execution_count": null,
      "outputs": []
    },
    {
      "cell_type": "markdown",
      "source": [
        "This function takes a variable number of keyword arguments and prints their keys and values to the screen. We can call the function with any number of keyword arguments:"
      ],
      "metadata": {
        "id": "mAAEOKFrBXUe"
      }
    },
    {
      "cell_type": "code",
      "source": [
        "print_kwargs(name=\"John\", age=\"25\", city=\"New York\")\n",
        "# output:\n",
        "# name: John\n",
        "# age: 25\n",
        "# city: New York\n"
      ],
      "metadata": {
        "id": "cJ2Kvo86BdAa",
        "colab": {
          "base_uri": "https://localhost:8080/"
        },
        "outputId": "b0a80e6c-de92-4a01-b1b0-6d80dcb67102"
      },
      "execution_count": null,
      "outputs": [
        {
          "output_type": "stream",
          "name": "stdout",
          "text": [
            "name: John\n",
            "age: 25\n",
            "city: New York\n"
          ]
        }
      ]
    },
    {
      "cell_type": "markdown",
      "source": [
        "##Conclusion"
      ],
      "metadata": {
        "id": "JoPc9PakBZBx"
      }
    },
    {
      "cell_type": "markdown",
      "source": [
        "Functions are an important concept in programming, and Python makes it easy to define and use them."
      ],
      "metadata": {
        "id": "nwKUfCxSBies"
      }
    },
    {
      "cell_type": "markdown",
      "source": [
        "## Exercise 1\n",
        "\n"
      ],
      "metadata": {
        "id": "bZmYScf-CCRg"
      }
    },
    {
      "cell_type": "markdown",
      "source": [
        "The area of a triangle can be calculated when the length of its sides is known. Taking into account that s1, s2 and s3 are the lengths of the sides of the triangle, the subperimeter s = (s1+s2+s3)/2 can be calculated, and, with this value, the area of the triangle can be calculated from the follows: area = √( s * (s-s1) * (s-s2) * (s-s3) ).\n",
        "\n",
        "Create a function that takes the length of the sides of the triangle and returns the area of the triangle, rounded to one decimal place.\n",
        "\n",
        "The math module can help you calculate the square root.\n",
        "\n",
        "\n"
      ],
      "metadata": {
        "id": "S6OE1xSBCFfb"
      }
    },
    {
      "cell_type": "markdown",
      "source": [
        "## Exercise 2"
      ],
      "metadata": {
        "id": "vJXNrk1s3WNa"
      }
    },
    {
      "cell_type": "markdown",
      "source": [
        "Create a function that can calculate a person's body mass index (BMI).\n",
        "\n",
        "The formula to calculate BMI is as follows:\n",
        "\n",
        "BMI = weight/(height^2)\n",
        "\n",
        "In this formula the weight is in kilograms and the height in meters. Note that the weight and height received by your function will be in pounds and inches respectively, since your function will be used in the United States.\n",
        "\n",
        "Remember that:\n",
        "\n",
        "- 1 pound corresponds to 0.45kg.\n",
        "\n",
        "- 1 inch corresponds to 0.025 meters.\n",
        "\n",
        "The return value must be rounded to two decimal places.\n",
        "\n",
        "\n"
      ],
      "metadata": {
        "id": "D_d0hp_w3Z0x"
      }
    },
    {
      "cell_type": "code",
      "source": [],
      "metadata": {
        "id": "bJYyWjRc3Bdc"
      },
      "execution_count": null,
      "outputs": []
    }
  ]
}