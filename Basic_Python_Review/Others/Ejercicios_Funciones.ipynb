{
  "nbformat": 4,
  "nbformat_minor": 0,
  "metadata": {
    "colab": {
      "provenance": [],
      "include_colab_link": true
    },
    "kernelspec": {
      "name": "python3",
      "display_name": "Python 3"
    },
    "language_info": {
      "name": "python"
    }
  },
  "cells": [
    {
      "cell_type": "markdown",
      "metadata": {
        "id": "view-in-github",
        "colab_type": "text"
      },
      "source": [
        "<a href=\"https://colab.research.google.com/github/amalvarezme/Python_Basics/blob/main/Others/Ejercicios_Funciones.ipynb\" target=\"_parent\"><img src=\"https://colab.research.google.com/assets/colab-badge.svg\" alt=\"Open In Colab\"/></a>"
      ]
    },
    {
      "cell_type": "markdown",
      "source": [
        "## Ejercicio_1\n",
        "\n",
        "Dado un arreglo de enteros, escribe una función que calcule el número de secuencias continuas de al menos dos números iguales en el arreglo.\n"
      ],
      "metadata": {
        "id": "PiV1GdIyKJRd"
      }
    },
    {
      "cell_type": "code",
      "execution_count": null,
      "metadata": {
        "id": "jSqpTtRyIvro"
      },
      "outputs": [],
      "source": [
        "import numpy as np\n",
        "\n",
        "def num_secuencias_iguales(arr):\n",
        "    # Usamos la función diff de numpy para obtener las diferencias entre elementos consecutivos\n",
        "    diff_arr = np.diff(arr)\n",
        "    # Buscamos los índices donde hay un cambio en la secuencia de números\n",
        "    indices_cambio = np.where(diff_arr != 0)[0] + 1\n",
        "    # Contamos la cantidad de secuencias de números iguales (con más de un elemento)\n",
        "    num_secuencias = np.sum(indices_cambio - np.roll(indices_cambio, 1) > 1)\n",
        "    return num_secuencias"
      ]
    },
    {
      "cell_type": "markdown",
      "source": [
        "###Funciones utilizadas\n",
        "\n",
        "### 1) np.diff():\n",
        "\n",
        "El comando 'np.diff()' calcula la diferencia entre elementos adyacentes a lo largo de un eje determinado de un arreglo NumPy. Por defecto, 'np.diff()' calcula la diferencia entre elementos adyacentes a lo largo del primer eje del arreglo.\n",
        "\n",
        "Ejemplo:"
      ],
      "metadata": {
        "id": "nn4ISawoKvAr"
      }
    },
    {
      "cell_type": "code",
      "source": [
        "import numpy as np\n",
        "\n",
        "a = np.array([1, 3, 6, 10])\n",
        "diffs = np.diff(a)\n",
        "print(diffs)"
      ],
      "metadata": {
        "colab": {
          "base_uri": "https://localhost:8080/"
        },
        "id": "4AO7MUFnLFeB",
        "outputId": "11f9005b-e1ef-43e7-fe81-299c11a5dc34"
      },
      "execution_count": null,
      "outputs": [
        {
          "output_type": "stream",
          "name": "stdout",
          "text": [
            "[2 3 4]\n"
          ]
        }
      ]
    },
    {
      "cell_type": "markdown",
      "source": [
        "En este ejemplo, creamos un arreglo NumPy a con los valores [1, 3, 6, 10]. Luego, calculamos las diferencias entre elementos adyacentes de a utilizando el comando np.diff(). La variable diffs contiene las diferencias resultantes, que son [2, 3, 4]. La diferencia entre 3 y 1 es 2, la diferencia entre 6 y 3 es 3, y la diferencia entre 10 y 6 es 4."
      ],
      "metadata": {
        "id": "i6WVsz8QLLob"
      }
    },
    {
      "cell_type": "markdown",
      "source": [
        "### 2) np.where():\n",
        "\n",
        "El comando 'np.where()' devuelve un arreglo NumPy que contiene elementos de uno de dos arreglos de entrada, dependiendo de una condición dada."
      ],
      "metadata": {
        "id": "ynifEiw_LPm-"
      }
    },
    {
      "cell_type": "code",
      "source": [
        "import numpy as np\n",
        "\n",
        "a = np.array([1, 2, 3, 4])\n",
        "b = np.array([10, 20, 30, 40])\n",
        "cond = np.array([True, False, False, True])\n",
        "\n",
        "result = np.where(cond, a, b)\n",
        "print(result)\n",
        "\n"
      ],
      "metadata": {
        "colab": {
          "base_uri": "https://localhost:8080/"
        },
        "id": "I7BV_fayLak6",
        "outputId": "2fecfbf0-5a99-4887-a6ce-8a7c1b394d5b"
      },
      "execution_count": null,
      "outputs": [
        {
          "output_type": "stream",
          "name": "stdout",
          "text": [
            "[ 1 20 30  4]\n"
          ]
        }
      ]
    },
    {
      "cell_type": "markdown",
      "source": [
        "En este ejemplo, creamos dos arreglos NumPy a y b con los valores [1, 2, 3, 4] y [10, 20, 30, 40], respectivamente. Luego, creamos un arreglo booleano cond con los valores [True, False, True, False]. El comando np.where() devuelve un nuevo arreglo NumPy result, que contiene los elementos de a donde cond es True, y los elementos de b donde cond es False. En este caso, result es [1, 20, 3, 40]."
      ],
      "metadata": {
        "id": "SxJd0vrHLblx"
      }
    },
    {
      "cell_type": "markdown",
      "source": [
        "### 3) np.sum:\n",
        "\n",
        "El comando np.sum() calcula la suma de los elementos de un arreglo NumPy a lo largo de un eje determinado. Por defecto, np.sum() calcula la suma de todos los elementos del arreglo."
      ],
      "metadata": {
        "id": "Sbtk7cf6LfLu"
      }
    },
    {
      "cell_type": "code",
      "source": [
        "import numpy as np\n",
        "\n",
        "a = np.array([[1, 2], [3, 4]])\n",
        "sum_total = np.sum(a)\n",
        "sum_filas = np.sum(a, axis=0)\n",
        "sum_columnas = np.sum(a, axis=1)\n",
        "\n",
        "print(sum_total)\n",
        "print(sum_filas)\n",
        "print(sum_columnas)"
      ],
      "metadata": {
        "colab": {
          "base_uri": "https://localhost:8080/"
        },
        "id": "fHnraWSELmD6",
        "outputId": "31d4a57e-e33a-48e6-bc0d-7ce405d5efb7"
      },
      "execution_count": null,
      "outputs": [
        {
          "output_type": "stream",
          "name": "stdout",
          "text": [
            "10\n",
            "[4 6]\n",
            "[3 7]\n"
          ]
        }
      ]
    },
    {
      "cell_type": "markdown",
      "source": [
        "En este ejemplo, creamos un arreglo NumPy a con los valores [[1, 2], [3, 4]]. Luego, utilizamos el comando np.sum() para calcular la suma de los elementos de a. La variable sum_total contiene la suma total, que es 10.\n",
        "\n",
        "También podemos utilizar np.sum() para calcular la suma a lo largo de los ejes de a. En este caso, np.sum(a, axis=0) calcula la suma a lo largo del primer eje, que corresponde a la suma de las columnas de"
      ],
      "metadata": {
        "id": "Qra13NppLroY"
      }
    },
    {
      "cell_type": "markdown",
      "source": [
        "## Ejercicio_2:Cálculo de la distancia entre dos puntos en un plano\n",
        "\n",
        "En este ejercicio, se pide a los estudiantes que escriban una función que calcule la distancia entre dos puntos en un plano utilizando NumPy. La distancia entre dos puntos en un plano se puede calcular utilizando la fórmula:\n",
        "\n",
        "$$d = \\sqrt{(x_2 - x_1)^2 + (y_2 - y_1)^2}$$\n",
        "\n",
        "La función debe tomar las coordenadas de los dos puntos como argumentos y devolver la distancia entre ellos.\n",
        "\n",
        "\n",
        "\n"
      ],
      "metadata": {
        "id": "Bhtcib4bL7nw"
      }
    },
    {
      "cell_type": "code",
      "source": [
        "import numpy as np\n",
        "\n",
        "def distancia(punto1, punto2):\n",
        "    x1, y1 = punto1\n",
        "    x2, y2 = punto2\n",
        "    distancia = np.sqrt((x2 - x1)**2 + (y2 - y1)**2)\n",
        "    return distancia\n",
        "\n",
        "# Ejemplo de uso\n",
        "punto1 = (1, 2)\n",
        "punto2 = (4, 6)\n",
        "resultado = distancia(punto1, punto2)\n",
        "print(resultado)"
      ],
      "metadata": {
        "colab": {
          "base_uri": "https://localhost:8080/"
        },
        "id": "60LqUgkNMDHk",
        "outputId": "69d40590-e732-4634-a22c-94d295983038"
      },
      "execution_count": null,
      "outputs": [
        {
          "output_type": "stream",
          "name": "stdout",
          "text": [
            "5.0\n"
          ]
        }
      ]
    },
    {
      "cell_type": "markdown",
      "source": [
        "### Funciones a utilizar:\n",
        "\n",
        "#### 'np.sqrt':\n",
        "\n",
        "Es una función en Python del paquete NumPy que se utiliza para calcular la raíz cuadrada de un número o una matriz de números.\n",
        "\n",
        "Por ejemplo, si queremos calcular la raíz cuadrada de un número 9, podemos hacerlo de la siguiente manera:\n",
        "\n",
        "\n"
      ],
      "metadata": {
        "id": "yVs_3feNMEe4"
      }
    },
    {
      "cell_type": "code",
      "source": [
        "import numpy as np\n",
        "\n",
        "x = 9\n",
        "raiz_cuadrada = np.sqrt(x)\n",
        "print(raiz_cuadrada)"
      ],
      "metadata": {
        "colab": {
          "base_uri": "https://localhost:8080/"
        },
        "id": "ve_wLT9GPWAs",
        "outputId": "5ac13f3f-6093-41da-9c04-356d9c2a8eaf"
      },
      "execution_count": null,
      "outputs": [
        {
          "output_type": "stream",
          "name": "stdout",
          "text": [
            "3.0\n"
          ]
        }
      ]
    },
    {
      "cell_type": "markdown",
      "source": [
        "Esto imprimirá el resultado de la raíz cuadrada de 9, que es 3.0.\n",
        "\n",
        "También podemos utilizar np.sqrt para calcular la raíz cuadrada de una matriz de números, por ejemplo:\n",
        "\n"
      ],
      "metadata": {
        "id": "_FCEeFWuPYPS"
      }
    },
    {
      "cell_type": "code",
      "source": [
        "import numpy as np\n",
        "\n",
        "x = np.array([4, 9, 16])\n",
        "raiz_cuadrada = np.sqrt(x)\n",
        "print(raiz_cuadrada)"
      ],
      "metadata": {
        "colab": {
          "base_uri": "https://localhost:8080/"
        },
        "id": "ETUL8Y1sPaip",
        "outputId": "70e680fa-fe8a-430f-85b8-b8201213a619"
      },
      "execution_count": null,
      "outputs": [
        {
          "output_type": "stream",
          "name": "stdout",
          "text": [
            "[2. 3. 4.]\n"
          ]
        }
      ]
    },
    {
      "cell_type": "markdown",
      "source": [
        "## Ejercicio_3:\n",
        "\n",
        "En este ejercicio, se le pide a los estudiantes que creen un vector numpy de 5 elementos aleatorios entre 0 y 1, y luego lo multipliquen por una matriz aleatoria de 5x5 también creada con la biblioteca random. Finalmente, deben imprimir la suma de las filas de la matriz resultante."
      ],
      "metadata": {
        "id": "dGmeOVzHPznD"
      }
    },
    {
      "cell_type": "code",
      "source": [
        "import numpy as np\n",
        "import random\n",
        "\n",
        "# Creamos el vector aleatorio de 5 elementos\n",
        "vector = np.random.rand(5)\n",
        "\n",
        "# Creamos la matriz aleatoria de 5x5\n",
        "matriz = np.random.rand(5,5)\n",
        "\n",
        "# Multiplicamos el vector por la matriz\n",
        "resultado = np.dot(vector, matriz)\n",
        "\n",
        "# Sumamos las filas de la matriz resultante\n",
        "suma_filas = np.sum(resultado, axis=1)\n",
        "\n",
        "print(\"Vector aleatorio:\", vector)\n",
        "print(\"Matriz aleatoria:\\n\", matriz)\n",
        "print(\"Resultado de la multiplicación:\", resultado)\n",
        "print(\"Suma de las filas de la matriz resultante:\", suma_filas)"
      ],
      "metadata": {
        "id": "r3PLzZCmR4T0"
      },
      "execution_count": null,
      "outputs": []
    },
    {
      "cell_type": "markdown",
      "source": [
        "##Ejercicio_4:\n",
        "\n",
        "En este ejercicio, se le pide a los estudiantes que creen una matriz numpy aleatoria de 3x3 con números enteros entre 1 y 10. Luego deben encontrar el valor máximo y mínimo de la matriz, y finalmente imprimir la matriz original con el valor máximo resaltado con una X y el valor mínimo resaltado con una O."
      ],
      "metadata": {
        "id": "sTd6AU1MR-8a"
      }
    },
    {
      "cell_type": "code",
      "source": [
        "import numpy as np\n",
        "import random\n",
        "\n",
        "# Creamos la matriz aleatoria de 3x3 con enteros entre 1 y 10\n",
        "matriz = np.random.randint(1, 11, size=(3,3))\n",
        "\n",
        "# Encontramos el valor máximo y mínimo de la matriz\n",
        "maximo = np.max(matriz)\n",
        "minimo = np.min(matriz)\n",
        "\n",
        "# Iteramos sobre cada elemento de la matriz y creamos una nueva matriz con\n",
        "# cada valor resaltado en \"X\" si es el máximo, en \"O\" si es el mínimo, y en\n",
        "# el valor original en cualquier otro caso\n",
        "\n",
        "matriz_resaltada = np.zeros_like(matriz, dtype=str)                             #Devuelve una matriz de cero identica a la dimensión de la matriz y sus mismo tipos de datos\n",
        "\n",
        "for i in range(matriz.shape[0]):\n",
        "    for j in range(matriz.shape[1]):\n",
        "        if matriz[i,j] == maximo:\n",
        "            matriz_resaltada[i,j] = \"X\"\n",
        "        elif matriz[i,j] == minimo:\n",
        "            matriz_resaltada[i,j] = \"O\"\n",
        "        else:\n",
        "            matriz_resaltada[i,j] = str(matriz[i,j])\n",
        "\n",
        "# Imprimimos la matriz original y la matriz resaltada\n",
        "print(\"Matriz original:\\n\", matriz)\n",
        "print(\"Matriz resaltada:\\n\", matriz_resaltada)"
      ],
      "metadata": {
        "colab": {
          "base_uri": "https://localhost:8080/"
        },
        "id": "yK37_UH9R-pb",
        "outputId": "3bab1fcb-6bdd-4c95-8243-13fe43f9b83b"
      },
      "execution_count": null,
      "outputs": [
        {
          "output_type": "stream",
          "name": "stdout",
          "text": [
            "Matriz original:\n",
            " [[ 4  1  8]\n",
            " [ 4  6 10]\n",
            " [ 7 10  6]]\n",
            "Matriz resaltada:\n",
            " [['4' 'O' '8']\n",
            " ['4' '6' 'X']\n",
            " ['7' 'X' '6']]\n"
          ]
        }
      ]
    },
    {
      "cell_type": "markdown",
      "source": [
        "##Ejercicio_5:\n",
        "\n",
        "- Crea una matriz aleatoria de 5x5 con enteros entre 1 y 20.\n",
        "- Encuentra el valor máximo y mínimo de la matriz.\n",
        "- Itera sobre cada elemento de la matriz y crea una nueva matriz con cada valor resaltado en \"X\" si es el máximo, en \"O\" si es el mínimo, y en el valor original en cualquier otro caso.\n",
        "-Imprime la matriz original y la matriz resaltada."
      ],
      "metadata": {
        "id": "bbZqU9vOmWNb"
      }
    },
    {
      "cell_type": "code",
      "source": [
        "import numpy as np\n",
        "\n",
        "# Creamos la matriz aleatoria de 5x5 con enteros entre 1 y 20\n",
        "matriz = np.random.randint(1, 21, size=(5,5))\n",
        "\n",
        "# Encontramos el valor máximo y mínimo de la matriz\n",
        "maximo = np.max(matriz)\n",
        "minimo = np.min(matriz)\n",
        "\n",
        "# Iteramos sobre cada elemento de la matriz y creamos una nueva matriz con\n",
        "# cada valor resaltado en \"X\" si es el máximo, en \"O\" si es el mínimo, y en\n",
        "# el valor original en cualquier otro caso\n",
        "matriz_resaltada = np.zeros_like(matriz, dtype=str)\n",
        "for i in range(matriz.shape[0]):\n",
        "    for j in range(matriz.shape[1]):\n",
        "        if matriz[i,j] == maximo:\n",
        "            matriz_resaltada[i,j] = \"X\"\n",
        "        elif matriz[i,j] == minimo:\n",
        "            matriz_resaltada[i,j] = \"O\"\n",
        "        else:\n",
        "            matriz_resaltada[i,j] = str(matriz[i,j])\n",
        "\n",
        "# Imprimimos la matriz original y la matriz resaltada\n",
        "print(\"Matriz original:\\n\", matriz)\n",
        "print(\"Matriz resaltada:\\n\", matriz_resaltada)"
      ],
      "metadata": {
        "colab": {
          "base_uri": "https://localhost:8080/"
        },
        "id": "msjAkGhjn73W",
        "outputId": "4c4c372c-4f75-462c-ca48-3cfe085e22e6"
      },
      "execution_count": null,
      "outputs": [
        {
          "output_type": "stream",
          "name": "stdout",
          "text": [
            "Matriz original:\n",
            " [[ 7 10  6 10  5]\n",
            " [19 16 11 20 16]\n",
            " [10 19 11 11 15]\n",
            " [ 3 14 18 15 12]\n",
            " [ 6 14  3  7 18]]\n",
            "Matriz resaltada:\n",
            " [['7' '1' '6' '1' '5']\n",
            " ['1' '1' '1' 'X' '1']\n",
            " ['1' '1' '1' '1' '1']\n",
            " ['O' '1' '1' '1' '1']\n",
            " ['6' '1' 'O' '7' '1']]\n"
          ]
        }
      ]
    },
    {
      "cell_type": "markdown",
      "source": [
        "### Indicaciones para el parcial.\n",
        "\n",
        "1. Si usan alguna función diferente a la que hemos visto en clase, debe ser documentada.\n",
        "\n",
        "2. Los comentarios deben ser un 20% de inglés.\n",
        "\n",
        "3. Puntualidad."
      ],
      "metadata": {
        "id": "geA5qhGymSmg"
      }
    },
    {
      "cell_type": "markdown",
      "source": [
        "##Ejercicio_Parcial.\n",
        "\n",
        "Crear juego de sudoku, SIN las reglas.\n"
      ],
      "metadata": {
        "id": "rwmf9-X4sfXX"
      }
    },
    {
      "cell_type": "code",
      "source": [
        "import random\n",
        "\n",
        "# Crear una lista vacía de 9x9 para el sudoku\n",
        "sudoku = [[0 for x in range(9)] for y in range(9)]\n",
        "\n",
        "# Rellenar el sudoku con números aleatorios del 1 al 9\n",
        "for i in range(9):\n",
        "    for j in range(9):\n",
        "        sudoku[i][j] = random.randint(1, 9)\n",
        "\n",
        "# Imprimir el sudoku\n",
        "for i in range(9):\n",
        "    for j in range(9):\n",
        "        print(sudoku[i][j],end=\" \")\n",
        "        if j == 2 or j == 5:\n",
        "            print(\"|\",end=\" \")\n",
        "    print()\n",
        "    if i == 2 or i == 5:\n",
        "        print(\"-\" * 22)"
      ],
      "metadata": {
        "colab": {
          "base_uri": "https://localhost:8080/"
        },
        "id": "kWIZSvDAzUpc",
        "outputId": "7d9f6b5b-3d70-42fc-904c-16be241e888a"
      },
      "execution_count": null,
      "outputs": [
        {
          "output_type": "stream",
          "name": "stdout",
          "text": [
            "1 4 1 | 1 4 9 | 3 1 5 \n",
            "3 5 5 | 7 7 2 | 4 7 8 \n",
            "1 4 3 | 2 1 4 | 5 7 1 \n",
            "----------------------\n",
            "1 8 4 | 9 3 3 | 3 2 3 \n",
            "6 7 6 | 1 9 1 | 3 5 5 \n",
            "4 6 2 | 6 2 8 | 4 7 5 \n",
            "----------------------\n",
            "6 8 7 | 7 5 1 | 4 3 3 \n",
            "3 8 3 | 3 8 3 | 5 2 8 \n",
            "3 7 8 | 3 6 3 | 4 8 6 \n"
          ]
        }
      ]
    },
    {
      "cell_type": "code",
      "source": [
        "import random\n",
        "\n",
        "def create_board():\n",
        "    # Crea un tablero de sudoku aleatorio\n",
        "    board = [[0 for x in range(9)] for y in range(9)]\n",
        "    nums = [1, 2, 3, 4, 5, 6, 7, 8, 9]\n",
        "    # Rellena el tablero con números aleatorios\n",
        "    for i in range(9):\n",
        "        random.shuffle(nums)\n",
        "        for j in range(9):\n",
        "            board[i][j] = nums[j]\n",
        "        nums = nums[3:] + nums[:3]\n",
        "    return board\n",
        "\n",
        "def print_board(board):\n",
        "    # Imprime el tablero en la consola\n",
        "    for i in range(9):\n",
        "        if i % 3 == 0 and i != 0:\n",
        "            print(\"- - - - - - - - - - - - \")\n",
        "        for j in range(9):\n",
        "            if j % 3 == 0 and j != 0:\n",
        "                print(\" | \", end=\"\")\n",
        "            if j == 8:\n",
        "                print(board[i][j])\n",
        "            else:\n",
        "                print(str(board[i][j]) + \" \", end=\"\")\n",
        "\n",
        "# Crear un tablero de sudoku\n",
        "board = create_board()\n",
        "# Imprimir el tablero\n",
        "print_board(board)"
      ],
      "metadata": {
        "colab": {
          "base_uri": "https://localhost:8080/"
        },
        "id": "2IGVPRansJWe",
        "outputId": "2ba8c481-d84f-4b94-d9cd-c4b995b195c6"
      },
      "execution_count": null,
      "outputs": [
        {
          "output_type": "stream",
          "name": "stdout",
          "text": [
            "7 4 3  | 5 8 9  | 1 2 6\n",
            "9 4 1  | 8 5 7  | 2 6 3\n",
            "4 2 9  | 6 7 8  | 3 1 5\n",
            "- - - - - - - - - - - - \n",
            "7 3 6  | 5 2 9  | 1 8 4\n",
            "2 6 9  | 8 4 7  | 1 3 5\n",
            "7 8 9  | 5 1 6  | 2 4 3\n",
            "- - - - - - - - - - - - \n",
            "3 6 4  | 2 5 9  | 1 7 8\n",
            "5 6 2  | 9 7 1  | 4 8 3\n",
            "1 4 2  | 9 3 6  | 7 5 8\n"
          ]
        }
      ]
    }
  ]
}