{
  "nbformat": 4,
  "nbformat_minor": 0,
  "metadata": {
    "colab": {
      "provenance": [],
      "include_colab_link": true
    },
    "kernelspec": {
      "name": "python3",
      "display_name": "Python 3"
    },
    "language_info": {
      "name": "python"
    }
  },
  "cells": [
    {
      "cell_type": "markdown",
      "metadata": {
        "id": "view-in-github",
        "colab_type": "text"
      },
      "source": [
        "<a href=\"https://colab.research.google.com/github/amalvarezme/Python_Basics/blob/main/Others/EjerciciosCiclosII.ipynb\" target=\"_parent\"><img src=\"https://colab.research.google.com/assets/colab-badge.svg\" alt=\"Open In Colab\"/></a>"
      ]
    },
    {
      "cell_type": "markdown",
      "source": [
        "**Exercise 1**\n",
        "\n",
        "Sum of the first n even numbers\n",
        "This exercise asks you to create a program that calculates the sum of the first n even numbers, where n is entered by the user."
      ],
      "metadata": {
        "id": "f4LoB4SNtQKM"
      }
    },
    {
      "cell_type": "code",
      "execution_count": null,
      "metadata": {
        "id": "h2gPqs67tF84"
      },
      "outputs": [],
      "source": [
        "n = int(input(\"Ingrese un número entero positivo: \"))\n",
        "suma = 0\n",
        "\n",
        "for i in range(1, n+1):\n",
        "    if i % 2 == 0:\n",
        "        suma += i\n",
        "\n",
        "print(\"La suma de los primeros\", n, \"números pares es:\", suma)"
      ]
    },
    {
      "cell_type": "markdown",
      "source": [
        "**Exercise 2**\n",
        "\n",
        "Generation of prime numbers, This exercise asks you to create a program that generates a list with the first n prime numbers, where n is entered by the user."
      ],
      "metadata": {
        "id": "M-_hk4Wpt39O"
      }
    },
    {
      "cell_type": "code",
      "source": [
        "n = int(input(\"Ingrese un número entero positivo: \"))\n",
        "primos = []\n",
        "\n",
        "for num in range(2, n+1):\n",
        "    es_primo = True\n",
        "    for i in range(2, num):\n",
        "        if num % i == 0:\n",
        "            es_primo = False\n",
        "            break\n",
        "    if es_primo:\n",
        "        primos.append(num)\n",
        "\n",
        "print(\"Los primeros\", n, \"números primos son:\", primos)"
      ],
      "metadata": {
        "id": "QtASDcrLuFtg",
        "colab": {
          "base_uri": "https://localhost:8080/"
        },
        "outputId": "80e46d63-55d7-46b7-d210-a8a895a0eb48"
      },
      "execution_count": null,
      "outputs": [
        {
          "output_type": "stream",
          "name": "stdout",
          "text": [
            "Ingrese un número entero positivo: 7\n",
            "Los primeros 7 números primos son: [2, 3, 5, 7]\n"
          ]
        }
      ]
    },
    {
      "cell_type": "markdown",
      "source": [
        "**Exercise 3**\n",
        "\n",
        "Hangman game, In this exercise you are asked to create a program that implements the classic game of hangman. The program should select a word at random from a predefined list, display the number of letters the word has, and allow the user to enter one letter at a time. If the entered letter is in the word, its position in the word will be displayed. If the letter is not in the word, a life will be subtracted from the player. The player has a total of 6 lives and loses if they lose all of them."
      ],
      "metadata": {
        "id": "Qz0P_8MDuKy9"
      }
    },
    {
      "cell_type": "code",
      "source": [
        "import random\n",
        "\n",
        "palabras = [\"python\", \"programacion\", \"desarrollo\", \"computadora\", \"software\"]\n",
        "palabra = random.choice(palabras)\n",
        "vidas = 6\n",
        "letras_adivinadas = []\n",
        "letras_erroneas = []\n",
        "\n",
        "print(\"¡Bienvenido al juego del ahorcado!\")\n",
        "print(\"La palabra seleccionada tiene\", len(palabra), \"letras.\")\n",
        "\n",
        "while True:\n",
        "    print(\"Vidas restantes:\", vidas)\n",
        "    print(\"Letras adivinadas:\", \" \".join(letras_adivinadas))\n",
        "    print(\"Letras erroneas:\", \" \".join(letras_erroneas))\n",
        "\n",
        "    if vidas == 0:\n",
        "        print(\"¡Perdiste! La palabra era:\", palabra)\n",
        "        break\n",
        "\n",
        "    if set(palabra) == set(letras_adivinadas):\n",
        "        print(\"¡Ganaste! La palabra era:\", palabra)\n",
        "        break\n",
        "\n",
        "    letra = input(\"Ingrese una letra: \").lower()\n",
        "\n",
        "    if letra in palabra:\n",
        "        print(\"¡Adivinaste una letra!\")\n",
        "        letras_adivinadas.append(letra)\n",
        "        [i for i, x in enumerate(palabra) if x == letra]  ##Corregir\n",
        "         for posicion in posiciones:\n",
        "            print(\"La letra\", letra, \"se encuentra en la posición\", posicion)\n",
        "    else:\n",
        "        print(\"¡Letra erronea!\")\n",
        "        vidas -= 1\n",
        "        letras_erroneas.append(letra)"
      ],
      "metadata": {
        "id": "cOVwGUj8u4N1"
      },
      "execution_count": null,
      "outputs": []
    },
    {
      "cell_type": "markdown",
      "source": [
        "**Exercise 4**\n",
        "\n",
        "Write a program to find the largest and smallest number in a list using a for loop."
      ],
      "metadata": {
        "id": "EefsqusXu-Ig"
      }
    },
    {
      "cell_type": "code",
      "source": [
        "numbers = [12, 45, 23, 67, 89, 34, 56]\n",
        "\n",
        "# Initialize the variables to the first number in the list\n",
        "largest = numbers[0]\n",
        "smallest = numbers[0]\n",
        "\n",
        "# Loop through the list to compare each number with the current largest and smallest\n",
        "for number in numbers:\n",
        "    if number > largest:\n",
        "        largest = number\n",
        "    elif number < smallest:\n",
        "        smallest = number\n",
        "\n",
        "# Print the largest and smallest numbers\n",
        "print(\"The largest number is:\", largest)\n",
        "print(\"The smallest number is:\", smallest)"
      ],
      "metadata": {
        "id": "81IJdQiqwris"
      },
      "execution_count": null,
      "outputs": []
    },
    {
      "cell_type": "markdown",
      "source": [
        "**Exercise 5**\n",
        "\n",
        "Dice Throwing Simulator: The program simulates the throwing of a six-sided die, and repeats it a given number of times. Shows the number of times each number was rolled."
      ],
      "metadata": {
        "id": "r-XO5Xz9xxI3"
      }
    },
    {
      "cell_type": "code",
      "source": [
        "import random\n",
        "\n",
        "lanzamientos = int(input(\"Ingrese la cantidad de lanzamientos: \"))\n",
        "\n",
        "numeros = [0, 0, 0, 0, 0, 0]\n",
        "for i in range(lanzamientos):\n",
        "    numero = random.randint(1, 6)\n",
        "    numeros[numero-1] += 1\n",
        "\n",
        "for i in range(6):\n",
        "    print(\"Número \" + str(i+1) + \": \" + str(numeros[i]) + \" veces\")"
      ],
      "metadata": {
        "id": "PELbU6wSyDHv",
        "colab": {
          "base_uri": "https://localhost:8080/"
        },
        "outputId": "3c65dbac-ba71-4687-e66a-581a58c538d5"
      },
      "execution_count": null,
      "outputs": [
        {
          "output_type": "stream",
          "name": "stdout",
          "text": [
            "Ingrese la cantidad de lanzamientos: 5\n",
            "Número 1: 2 veces\n",
            "Número 2: 1 veces\n",
            "Número 3: 2 veces\n",
            "Número 4: 0 veces\n",
            "Número 5: 0 veces\n",
            "Número 6: 0 veces\n"
          ]
        }
      ]
    },
    {
      "cell_type": "markdown",
      "source": [
        "**Exercise 6**\n",
        "\n",
        "Password generator: Write a program that generates random 8-character passwords, containing uppercase letters, lowercase letters, and numbers."
      ],
      "metadata": {
        "id": "CmXN9dRXyw8u"
      }
    },
    {
      "cell_type": "code",
      "source": [
        "import random\n",
        "import string\n",
        "\n",
        "longitud = 8\n",
        "letras = string.ascii_letters + string.digits\n",
        "contraseña = \"\"\n",
        "\n",
        "for i in range(longitud):\n",
        "    contraseña += random.choice(letras)\n",
        "\n",
        "print(\"La contraseña generada es:\", contraseña)"
      ],
      "metadata": {
        "id": "ChBp6B5hyzmR"
      },
      "execution_count": null,
      "outputs": []
    }
  ]
}