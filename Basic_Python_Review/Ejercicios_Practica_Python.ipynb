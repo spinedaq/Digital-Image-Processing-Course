{
  "nbformat": 4,
  "nbformat_minor": 0,
  "metadata": {
    "colab": {
      "provenance": []
    },
    "kernelspec": {
      "name": "python3",
      "display_name": "Python 3"
    },
    "language_info": {
      "name": "python"
    }
  },
  "cells": [
    {
      "cell_type": "markdown",
      "source": [
        "## Exercises Variables:"
      ],
      "metadata": {
        "id": "3wtJmi8LXl2U"
      }
    },
    {
      "cell_type": "markdown",
      "source": [
        "1. Write a program that displays the result of the following arithmetic operation on the screen: $x(t) = \\left(\\frac{3+2}{2.5}\\right)^2$\n",
        "\n",
        "2. Write a program that asks the user for the number of hours worked and the hourly rate. Then, it should display on the screen the corresponding payment.\n",
        "\n",
        "3. Write a program that asks the user for their weight (in kg) and height (in meters), calculates the body mass index (BMI), stores it in a variable, and displays the message \"Your body mass index is imc\" on the screen, where imc is the calculated BMI rounded to two decimal places."
      ],
      "metadata": {
        "id": "tMWqqqTGXjio"
      }
    },
    {
      "cell_type": "markdown",
      "source": [
        "##Exercises Conditionals\n",
        "\n",
        "1. In order to pay a certain tax, you must be over 16 years old and have a monthly income equal to or greater than €1000. Write a program that asks the user for their age and monthly income, and displays whether the user has to pay the tax or not.\n",
        "\n",
        "\n",
        "2. The Bella Napoli pizzeria offers vegetarian and non-vegetarian pizzas to its customers. The ingredients for each type of pizza are as follows:\n",
        "\n",
        "Vegetarian ingredients: Bell peppers and tofu.\n",
        "\n",
        "Non-vegetarian ingredients: Pepperoni, Ham, and Salmon.\n",
        "\n",
        "Write a program that asks the user if they want a vegetarian pizza or not, and based on their response, displays a menu with the available ingredients for them to choose from. Only one additional ingredient can be chosen besides the mozzarella and tomato, which are included in all pizzas. Finally, the program should display whether the chosen pizza is vegetarian or not, along with all the ingredients it contains."
      ],
      "metadata": {
        "id": "ProXoDCDXxbv"
      }
    },
    {
      "cell_type": "markdown",
      "source": [
        "##Exercises Cicles:\n",
        "\n",
        "1. Write a code that ask the user to enter an integer number every time, and the process will be repeated with more numbers until the user enters a zero.\n",
        "\n",
        "At the end (when the zero is entered), show the amount of numbers entered.\n",
        "\n",
        "2. Use the input() function to ask for the user to enter one integer number. Only if the number is even, it will be accumulated.\n",
        "\n",
        "The program must come to an end if the sum of the numbers surpasses 50 or if the user enters a maximum of 10 numbers."
      ],
      "metadata": {
        "id": "FHyWkVkDX7w_"
      }
    },
    {
      "cell_type": "markdown",
      "source": [
        "##Exercises Functions:\n",
        "\n",
        "1. The area of a triangle can be calculated when the length of its sides is known. Taking into account that s1, s2 and s3 are the lengths of the sides of the triangle, the subperimeter s = (s1+s2+s3)/2 can be calculated, and, with this value, the area of the triangle can be calculated from the follows: area = √( s * (s-s1) * (s-s2) * (s-s3) ).\n",
        "\n",
        "Create a function that takes the length of the sides of the triangle and returns the area of the triangle, rounded to one decimal place.\n",
        "\n",
        "The math module can help you calculate the square root.\n",
        "\n",
        "2. Create a function that can calculate a person's body mass index (BMI).\n",
        "\n",
        "The formula to calculate BMI is as follows:\n",
        "\n",
        "BMI = weight/(height^2)\n",
        "\n",
        "In this formula the weight is in kilograms and the height in meters. Note that the weight and height received by your function will be in pounds and inches respectively, since your function will be used in the United States.\n",
        "\n",
        "Remember that:\n",
        "\n",
        "- 1 pound corresponds to 0.45kg.\n",
        "\n",
        "- 1 inch corresponds to 0.025 meters.\n",
        "\n",
        "The return value must be rounded to two decimal places.\n",
        "\n",
        "\n"
      ],
      "metadata": {
        "id": "Q19KhL-wYXxg"
      }
    },
    {
      "cell_type": "markdown",
      "source": [
        "##Exercises Data Type:\n",
        "\n",
        "1. Write a function that takes a list of numbers as input and returns the sum of all the odd numbers in the list. For example, if the input is [1, 2, 3, 4, 5, 6], the function should return 9 (which is the sum of 1, 3, and 5).\n",
        "\n",
        "2. Write a function that takes a list of words as input and returns a dictionary that counts the number of times each word appears in the list. For example, if the input is ['apple', 'banana', 'apple', 'cherry', 'cherry', 'cherry'], the function should return {'apple': 2, 'banana': 1, 'cherry': 3}."
      ],
      "metadata": {
        "id": "NjkVlFi2Yqzp"
      }
    },
    {
      "cell_type": "markdown",
      "source": [
        "## Ejercicios  y Herencia de Clases:\n",
        "\n",
        "1. Crea una clase \"Persona\" que tenga atributos como nombre, edad, género y métodos para presentarse y saludar a otras personas.\n",
        "\n",
        "2. Crea una clase \"Coche\" que tenga atributos como marca, modelo, año, kilometraje y métodos para arrancar, acelerar y frenar.\n",
        "\n",
        "3. Crea una clase \"Rectángulo\" que tenga atributos como longitud y ancho y métodos para calcular el área y el perímetro.\n",
        "\n",
        "4. Crea una clase \"Banco\" que tenga atributos como nombre, dirección y métodos para abrir una cuenta, depositar dinero, retirar dinero y revisar el saldo.\n",
        "\n",
        "5. Crea una clase \"Estudiante\" que tenga atributos como nombre, edad, promedio y métodos para estudiar, hacer tareas y presentar exámenes.\n",
        "\n",
        "6. Crea un sistema de manejo de figuras geométricas utilizando clases y herencia. Debes tener una clase base llamada \"FiguraGeometrica\" con un método abstracto llamado \"calcular_area()\". Luego, crea clases derivadas para diferentes tipos de figuras geométricas, como \"Círculo\", \"Rectángulo\" y \"Triángulo\". Cada clase derivada debe implementar el método \"calcular_area()\" de acuerdo con la fórmula correspondiente para el cálculo del área de esa figura.\n",
        "\n",
        "7. Crea un sistema de reserva de vuelos utilizando clases y herencia. Debes tener una clase base llamada \"Vuelo\" con los siguientes atributos: número de vuelo, origen, destino, y capacidad máxima de pasajeros. Luego, crea una clase derivada llamada \"VueloEconomico\" que herede de la clase base y agregue un atributo adicional llamado \"tarifa\". Además, agrega métodos en ambas clases para mostrar la información del vuelo y realizar una reserva de asientos.\n",
        "\n",
        "La clase base \"Vuelo\" debe tener un método para verificar si hay asientos disponibles y otro para realizar la reserva de un asiento. La clase derivada \"VueloEconomico\" puede tener métodos adicionales para calcular el precio total de la reserva de acuerdo con la tarifa y la cantidad de asientos reservados.\n",
        "\n",
        "8. Ejercicio Calculadora y Supercalculadora (aplicando herencia de clase) desarrollado en clase."
      ],
      "metadata": {
        "id": "H2kT0YkMY9Yv"
      }
    }
  ]
}