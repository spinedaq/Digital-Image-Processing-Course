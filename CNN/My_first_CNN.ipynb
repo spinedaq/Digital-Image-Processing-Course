{
  "nbformat": 4,
  "nbformat_minor": 0,
  "metadata": {
    "colab": {
      "provenance": []
    },
    "kernelspec": {
      "name": "python3",
      "display_name": "Python 3"
    },
    "language_info": {
      "name": "python"
    },
    "accelerator": "GPU",
    "gpuClass": "standard"
  },
  "cells": [
    {
      "cell_type": "markdown",
      "source": [
        "**The Idea of  this CNN is that clasificate images of cloth (trousers, shirts, dress, jackets, etc).**"
      ],
      "metadata": {
        "id": "qUqTLBcCZ9M_"
      }
    },
    {
      "cell_type": "code",
      "execution_count": 1,
      "metadata": {
        "id": "nSr1_y1_XE4B"
      },
      "outputs": [],
      "source": [
        "#Packages:\n",
        "import tensorflow as tf\n",
        "from tensorflow.keras.datasets import fashion_mnist #Dataset that we will use: Is a dataset of cloth (trouserts, jackets, dress, etc)\n",
        "from tensorflow.keras.layers import Conv2D, Dropout, MaxPooling2D, Flatten, Dense #Layers that we will use\n",
        "import numpy as np\n",
        "import matplotlib.pyplot as plt"
      ]
    },
    {
      "cell_type": "code",
      "source": [
        "(train_images,train_labels), (test_images, test_labels)=fashion_mnist.load_data() #Load the data"
      ],
      "metadata": {
        "id": "TxTJT0s6YYeN",
        "colab": {
          "base_uri": "https://localhost:8080/"
        },
        "outputId": "633c8ab9-f777-4af9-cf51-da8488c4ed07"
      },
      "execution_count": 2,
      "outputs": [
        {
          "output_type": "stream",
          "name": "stdout",
          "text": [
            "Downloading data from https://storage.googleapis.com/tensorflow/tf-keras-datasets/train-labels-idx1-ubyte.gz\n",
            "29515/29515 [==============================] - 0s 0us/step\n",
            "Downloading data from https://storage.googleapis.com/tensorflow/tf-keras-datasets/train-images-idx3-ubyte.gz\n",
            "26421880/26421880 [==============================] - 2s 0us/step\n",
            "Downloading data from https://storage.googleapis.com/tensorflow/tf-keras-datasets/t10k-labels-idx1-ubyte.gz\n",
            "5148/5148 [==============================] - 0s 0us/step\n",
            "Downloading data from https://storage.googleapis.com/tensorflow/tf-keras-datasets/t10k-images-idx3-ubyte.gz\n",
            "4422102/4422102 [==============================] - 0s 0us/step\n"
          ]
        }
      ]
    },
    {
      "cell_type": "code",
      "source": [
        "train_images.shape #We have 60000 images with resolution 28x28 and one only channel every image"
      ],
      "metadata": {
        "colab": {
          "base_uri": "https://localhost:8080/"
        },
        "id": "0aQ1mkHfY2ma",
        "outputId": "7ffc7a26-4596-4f49-8ed8-8a5ed152d4b6"
      },
      "execution_count": 3,
      "outputs": [
        {
          "output_type": "execute_result",
          "data": {
            "text/plain": [
              "(60000, 28, 28)"
            ]
          },
          "metadata": {},
          "execution_count": 3
        }
      ]
    },
    {
      "cell_type": "code",
      "source": [
        "test_images.shape"
      ],
      "metadata": {
        "colab": {
          "base_uri": "https://localhost:8080/"
        },
        "id": "ym5aIYUAbKsf",
        "outputId": "20802a85-d8cc-4ebf-c997-e285d5809794"
      },
      "execution_count": 4,
      "outputs": [
        {
          "output_type": "execute_result",
          "data": {
            "text/plain": [
              "(10000, 28, 28)"
            ]
          },
          "metadata": {},
          "execution_count": 4
        }
      ]
    },
    {
      "cell_type": "code",
      "source": [
        "test_labels.shape #One label for every image"
      ],
      "metadata": {
        "colab": {
          "base_uri": "https://localhost:8080/"
        },
        "id": "1NJzzeUpb6sX",
        "outputId": "c10ee6fb-30ae-41e0-c454-ad27ea72f6a2"
      },
      "execution_count": 5,
      "outputs": [
        {
          "output_type": "execute_result",
          "data": {
            "text/plain": [
              "(10000,)"
            ]
          },
          "metadata": {},
          "execution_count": 5
        }
      ]
    },
    {
      "cell_type": "code",
      "source": [
        "plt.imshow(train_images[0]) #plot a images"
      ],
      "metadata": {
        "colab": {
          "base_uri": "https://localhost:8080/",
          "height": 282
        },
        "id": "TPDcdNraZNzV",
        "outputId": "85c766a9-7375-4732-cda4-0036599a7dd0"
      },
      "execution_count": 6,
      "outputs": [
        {
          "output_type": "execute_result",
          "data": {
            "text/plain": [
              "<matplotlib.image.AxesImage at 0x7fa78fbe1190>"
            ]
          },
          "metadata": {},
          "execution_count": 6
        },
        {
          "output_type": "display_data",
          "data": {
            "text/plain": [
              "<Figure size 432x288 with 1 Axes>"
            ],
            "image/png": "[encoded data removed]"
          },
          "metadata": {
            "needs_background": "light"
          }
        }
      ]
    },
    {
      "cell_type": "code",
      "source": [
        "train_images[0] #Every pixel is a value between 0 and 255 (deep)"
      ],
      "metadata": {
        "colab": {
          "base_uri": "https://localhost:8080/"
        },
        "id": "MxWVdwcNaMx3",
        "outputId": "2645e3f3-385f-4f64-d8ad-f3503e7af892"
      },
      "execution_count": 7,
      "outputs": [
        {
          "output_type": "execute_result",
          "data": {
            "text/plain": [
              "array([[  0,   0,   0,   0,   0,   0,   0,   0,   0,   0,   0,   0,   0,\n",
              "          0,   0,   0,   0,   0,   0,   0,   0,   0,   0,   0,   0,   0,\n",
              "          0,   0],\n",
              "       [  0,   0,   0,   0,   0,   0,   0,   0,   0,   0,   0,   0,   0,\n",
              "          0,   0,   0,   0,   0,   0,   0,   0,   0,   0,   0,   0,   0,\n",
              "          0,   0],\n",
              "       [  0,   0,   0,   0,   0,   0,   0,   0,   0,   0,   0,   0,   0,\n",
              "          0,   0,   0,   0,   0,   0,   0,   0,   0,   0,   0,   0,   0,\n",
              "          0,   0],\n",
              "       [  0,   0,   0,   0,   0,   0,   0,   0,   0,   0,   0,   0,   1,\n",
              "          0,   0,  13,  73,   0,   0,   1,   4,   0,   0,   0,   0,   1,\n",
              "          1,   0],\n",
              "       [  0,   0,   0,   0,   0,   0,   0,   0,   0,   0,   0,   0,   3,\n",
              "          0,  36, 136, 127,  62,  54,   0,   0,   0,   1,   3,   4,   0,\n",
              "          0,   3],\n",
              "       [  0,   0,   0,   0,   0,   0,   0,   0,   0,   0,   0,   0,   6,\n",
              "          0, 102, 204, 176, 134, 144, 123,  23,   0,   0,   0,   0,  12,\n",
              "         10,   0],\n",
              "       [  0,   0,   0,   0,   0,   0,   0,   0,   0,   0,   0,   0,   0,\n",
              "          0, 155, 236, 207, 178, 107, 156, 161, 109,  64,  23,  77, 130,\n",
              "         72,  15],\n",
              "       [  0,   0,   0,   0,   0,   0,   0,   0,   0,   0,   0,   1,   0,\n",
              "         69, 207, 223, 218, 216, 216, 163, 127, 121, 122, 146, 141,  88,\n",
              "        172,  66],\n",
              "       [  0,   0,   0,   0,   0,   0,   0,   0,   0,   1,   1,   1,   0,\n",
              "        200, 232, 232, 233, 229, 223, 223, 215, 213, 164, 127, 123, 196,\n",
              "        229,   0],\n",
              "       [  0,   0,   0,   0,   0,   0,   0,   0,   0,   0,   0,   0,   0,\n",
              "        183, 225, 216, 223, 228, 235, 227, 224, 222, 224, 221, 223, 245,\n",
              "        173,   0],\n",
              "       [  0,   0,   0,   0,   0,   0,   0,   0,   0,   0,   0,   0,   0,\n",
              "        193, 228, 218, 213, 198, 180, 212, 210, 211, 213, 223, 220, 243,\n",
              "        202,   0],\n",
              "       [  0,   0,   0,   0,   0,   0,   0,   0,   0,   1,   3,   0,  12,\n",
              "        219, 220, 212, 218, 192, 169, 227, 208, 218, 224, 212, 226, 197,\n",
              "        209,  52],\n",
              "       [  0,   0,   0,   0,   0,   0,   0,   0,   0,   0,   6,   0,  99,\n",
              "        244, 222, 220, 218, 203, 198, 221, 215, 213, 222, 220, 245, 119,\n",
              "        167,  56],\n",
              "       [  0,   0,   0,   0,   0,   0,   0,   0,   0,   4,   0,   0,  55,\n",
              "        236, 228, 230, 228, 240, 232, 213, 218, 223, 234, 217, 217, 209,\n",
              "         92,   0],\n",
              "       [  0,   0,   1,   4,   6,   7,   2,   0,   0,   0,   0,   0, 237,\n",
              "        226, 217, 223, 222, 219, 222, 221, 216, 223, 229, 215, 218, 255,\n",
              "         77,   0],\n",
              "       [  0,   3,   0,   0,   0,   0,   0,   0,   0,  62, 145, 204, 228,\n",
              "        207, 213, 221, 218, 208, 211, 218, 224, 223, 219, 215, 224, 244,\n",
              "        159,   0],\n",
              "       [  0,   0,   0,   0,  18,  44,  82, 107, 189, 228, 220, 222, 217,\n",
              "        226, 200, 205, 211, 230, 224, 234, 176, 188, 250, 248, 233, 238,\n",
              "        215,   0],\n",
              "       [  0,  57, 187, 208, 224, 221, 224, 208, 204, 214, 208, 209, 200,\n",
              "        159, 245, 193, 206, 223, 255, 255, 221, 234, 221, 211, 220, 232,\n",
              "        246,   0],\n",
              "       [  3, 202, 228, 224, 221, 211, 211, 214, 205, 205, 205, 220, 240,\n",
              "         80, 150, 255, 229, 221, 188, 154, 191, 210, 204, 209, 222, 228,\n",
              "        225,   0],\n",
              "       [ 98, 233, 198, 210, 222, 229, 229, 234, 249, 220, 194, 215, 217,\n",
              "        241,  65,  73, 106, 117, 168, 219, 221, 215, 217, 223, 223, 224,\n",
              "        229,  29],\n",
              "       [ 75, 204, 212, 204, 193, 205, 211, 225, 216, 185, 197, 206, 198,\n",
              "        213, 240, 195, 227, 245, 239, 223, 218, 212, 209, 222, 220, 221,\n",
              "        230,  67],\n",
              "       [ 48, 203, 183, 194, 213, 197, 185, 190, 194, 192, 202, 214, 219,\n",
              "        221, 220, 236, 225, 216, 199, 206, 186, 181, 177, 172, 181, 205,\n",
              "        206, 115],\n",
              "       [  0, 122, 219, 193, 179, 171, 183, 196, 204, 210, 213, 207, 211,\n",
              "        210, 200, 196, 194, 191, 195, 191, 198, 192, 176, 156, 167, 177,\n",
              "        210,  92],\n",
              "       [  0,   0,  74, 189, 212, 191, 175, 172, 175, 181, 185, 188, 189,\n",
              "        188, 193, 198, 204, 209, 210, 210, 211, 188, 188, 194, 192, 216,\n",
              "        170,   0],\n",
              "       [  2,   0,   0,   0,  66, 200, 222, 237, 239, 242, 246, 243, 244,\n",
              "        221, 220, 193, 191, 179, 182, 182, 181, 176, 166, 168,  99,  58,\n",
              "          0,   0],\n",
              "       [  0,   0,   0,   0,   0,   0,   0,  40,  61,  44,  72,  41,  35,\n",
              "          0,   0,   0,   0,   0,   0,   0,   0,   0,   0,   0,   0,   0,\n",
              "          0,   0],\n",
              "       [  0,   0,   0,   0,   0,   0,   0,   0,   0,   0,   0,   0,   0,\n",
              "          0,   0,   0,   0,   0,   0,   0,   0,   0,   0,   0,   0,   0,\n",
              "          0,   0],\n",
              "       [  0,   0,   0,   0,   0,   0,   0,   0,   0,   0,   0,   0,   0,\n",
              "          0,   0,   0,   0,   0,   0,   0,   0,   0,   0,   0,   0,   0,\n",
              "          0,   0]], dtype=uint8)"
            ]
          },
          "metadata": {},
          "execution_count": 7
        }
      ]
    },
    {
      "cell_type": "markdown",
      "source": [
        "#PREPROCCESS:"
      ],
      "metadata": {
        "id": "7LyzzMvwdGSn"
      }
    },
    {
      "cell_type": "code",
      "source": [
        "#Normalize the pixels with MinMaxScaler:\n",
        "train_images=train_images.astype(\"float32\")/255\n",
        "test_images=test_images.astype(\"float32\")/255"
      ],
      "metadata": {
        "id": "p5qC3iVvaa8P"
      },
      "execution_count": 8,
      "outputs": []
    },
    {
      "cell_type": "code",
      "source": [
        "#Reshape for indicate that I am working with one only channel (Gray Scale):\n",
        "train_images=train_images.reshape(train_images.shape[0],28,28,1)\n",
        "test_images=test_images.reshape(test_images.shape[0],28,28,1)"
      ],
      "metadata": {
        "id": "Znm095ypa8Fw"
      },
      "execution_count": 9,
      "outputs": []
    },
    {
      "cell_type": "code",
      "source": [
        "train_labels, np.unique(train_labels) #In the dataset there are 10 classes"
      ],
      "metadata": {
        "colab": {
          "base_uri": "https://localhost:8080/"
        },
        "id": "mB4Sj1UGbwDA",
        "outputId": "a51972a9-3eb0-4bca-d718-f04c10ddd2b0"
      },
      "execution_count": 10,
      "outputs": [
        {
          "output_type": "execute_result",
          "data": {
            "text/plain": [
              "(array([9, 0, 0, ..., 3, 0, 5], dtype=uint8),\n",
              " array([0, 1, 2, 3, 4, 5, 6, 7, 8, 9], dtype=uint8))"
            ]
          },
          "metadata": {},
          "execution_count": 10
        }
      ]
    },
    {
      "cell_type": "code",
      "source": [
        "#We do OneHotEncoder to the labels (For example 1 in the position (20,8) mean that the image 20 is label as class 8):\n",
        "train_labels=tf.keras.utils.to_categorical(train_labels,10)\n",
        "test_labels=tf.keras.utils.to_categorical(test_labels,10)"
      ],
      "metadata": {
        "id": "cRVzKuSecWPw"
      },
      "execution_count": 11,
      "outputs": []
    },
    {
      "cell_type": "code",
      "source": [
        "train_labels.shape"
      ],
      "metadata": {
        "colab": {
          "base_uri": "https://localhost:8080/"
        },
        "id": "h1Gr8ay_ccZd",
        "outputId": "dfb3e1a7-ee7d-4fa8-9063-482886df3ac5"
      },
      "execution_count": 12,
      "outputs": [
        {
          "output_type": "execute_result",
          "data": {
            "text/plain": [
              "(60000, 10)"
            ]
          },
          "metadata": {},
          "execution_count": 12
        }
      ]
    },
    {
      "cell_type": "markdown",
      "source": [
        "#creating the model:"
      ],
      "metadata": {
        "id": "G-2xsNGcdI-j"
      }
    },
    {
      "cell_type": "code",
      "source": [
        "#Define the architecture of my model:\n",
        "model=tf.keras.Sequential() #Using the Sequential API\n",
        "model.add(Conv2D(filters=64,kernel_size=2,padding=\"same\",activation=\"relu\",input_shape=(28,28,1))) #The input layer is a Convolutional 2D. After we will understand what does every layer as well as your parameters.\n",
        "model.add(MaxPooling2D(pool_size=2)) #add other hidden layer\n",
        "model.add(Dropout(0.3)) #add a dropout layer for reducing the over fitting and with a 30%\n",
        "model.add(Conv2D(filters=32,kernel_size=2,padding=\"same\",activation=\"relu\"))\n",
        "model.add(MaxPooling2D(pool_size=2))\n",
        "model.add(Dropout(0.3))\n",
        "model.add(Flatten())#add a flatten layer for flatten the tensors, that all staye in serie\n",
        "model.add(Dense(256,activation=\"relu\"))\n",
        "model.add(Dropout(0.5))\n",
        "model.add(Dense(10,activation=\"softmax\")) #Output Layer: We will have 10 outputs for every instance for this 10 neurons and softmax activation function because is a task of multiple clasification"
      ],
      "metadata": {
        "id": "jGcbc3HGdEJR"
      },
      "execution_count": 13,
      "outputs": []
    },
    {
      "cell_type": "markdown",
      "source": [
        "**- How we can see, no to all layers should indicate the number of neurons and the activation function**\n",
        "\n",
        "**- Remenber that in the input layer we should always indicate the input shape of every instance**\n",
        "\n",
        "**- Remember that the relu activation function is very good for the hidden layers; because preserve very good the original value of the output**\n",
        "\n",
        "**- Remember that in the output layer we should always choose a activation function according our task**\n",
        "\n",
        "**Remember that in the output layer the number of neuron should be always iqual to the number of outputs of my task**\n"
      ],
      "metadata": {
        "id": "CJdF-vgigKVX"
      }
    },
    {
      "cell_type": "code",
      "source": [
        "#Draw the architecture of my model:\n",
        "model.summary()"
      ],
      "metadata": {
        "colab": {
          "base_uri": "https://localhost:8080/"
        },
        "id": "n57bNpJ_hrmi",
        "outputId": "a3ca3dff-4dd2-4504-ff31-9e7ce5689350"
      },
      "execution_count": 14,
      "outputs": [
        {
          "output_type": "stream",
          "name": "stdout",
          "text": [
            "Model: \"sequential\"\n",
            "_________________________________________________________________\n",
            " Layer (type)                Output Shape              Param #   \n",
            "=================================================================\n",
            " conv2d (Conv2D)             (None, 28, 28, 64)        320       \n",
            "                                                                 \n",
            " max_pooling2d (MaxPooling2D  (None, 14, 14, 64)       0         \n",
            " )                                                               \n",
            "                                                                 \n",
            " dropout (Dropout)           (None, 14, 14, 64)        0         \n",
            "                                                                 \n",
            " conv2d_1 (Conv2D)           (None, 14, 14, 32)        8224      \n",
            "                                                                 \n",
            " max_pooling2d_1 (MaxPooling  (None, 7, 7, 32)         0         \n",
            " 2D)                                                             \n",
            "                                                                 \n",
            " dropout_1 (Dropout)         (None, 7, 7, 32)          0         \n",
            "                                                                 \n",
            " flatten (Flatten)           (None, 1568)              0         \n",
            "                                                                 \n",
            " dense (Dense)               (None, 256)               401664    \n",
            "                                                                 \n",
            " dropout_2 (Dropout)         (None, 256)               0         \n",
            "                                                                 \n",
            " dense_1 (Dense)             (None, 10)                2570      \n",
            "                                                                 \n",
            "=================================================================\n",
            "Total params: 412,778\n",
            "Trainable params: 412,778\n",
            "Non-trainable params: 0\n",
            "_________________________________________________________________\n"
          ]
        }
      ]
    },
    {
      "cell_type": "markdown",
      "source": [
        "#Compiling the Model:"
      ],
      "metadata": {
        "id": "Mu29Og1_0Y19"
      }
    },
    {
      "cell_type": "code",
      "source": [
        "model.compile(loss=\"categorical_crossentropy\",optimizer=\"rmsprop\",metrics=[\"accuracy\"])"
      ],
      "metadata": {
        "id": "rfEJ0pu80JSb"
      },
      "execution_count": 15,
      "outputs": []
    },
    {
      "cell_type": "markdown",
      "source": [
        "#Training the Model:"
      ],
      "metadata": {
        "id": "RkzUdxCm0soV"
      }
    },
    {
      "cell_type": "code",
      "source": [
        "history=model.fit(train_images,train_labels,batch_size=64,epochs=10,validation_split=0.2)"
      ],
      "metadata": {
        "colab": {
          "base_uri": "https://localhost:8080/"
        },
        "id": "U7zPjtDO0qzw",
        "outputId": "1b98cc47-d547-4170-a3c8-5e49bcad4907"
      },
      "execution_count": 16,
      "outputs": [
        {
          "output_type": "stream",
          "name": "stdout",
          "text": [
            "Epoch 1/10\n",
            "750/750 [==============================] - 21s 11ms/step - loss: 0.6180 - accuracy: 0.7745 - val_loss: 0.3901 - val_accuracy: 0.8560\n",
            "Epoch 2/10\n",
            "750/750 [==============================] - 5s 7ms/step - loss: 0.4121 - accuracy: 0.8538 - val_loss: 0.3606 - val_accuracy: 0.8636\n",
            "Epoch 3/10\n",
            "750/750 [==============================] - 6s 9ms/step - loss: 0.3652 - accuracy: 0.8693 - val_loss: 0.3037 - val_accuracy: 0.8872\n",
            "Epoch 4/10\n",
            "750/750 [==============================] - 6s 7ms/step - loss: 0.3392 - accuracy: 0.8772 - val_loss: 0.2842 - val_accuracy: 0.8961\n",
            "Epoch 5/10\n",
            "750/750 [==============================] - 6s 9ms/step - loss: 0.3248 - accuracy: 0.8816 - val_loss: 0.2831 - val_accuracy: 0.8967\n",
            "Epoch 6/10\n",
            "750/750 [==============================] - 5s 7ms/step - loss: 0.3126 - accuracy: 0.8864 - val_loss: 0.2704 - val_accuracy: 0.9011\n",
            "Epoch 7/10\n",
            "750/750 [==============================] - 6s 8ms/step - loss: 0.3072 - accuracy: 0.8894 - val_loss: 0.2788 - val_accuracy: 0.9003\n",
            "Epoch 8/10\n",
            "750/750 [==============================] - 7s 10ms/step - loss: 0.3055 - accuracy: 0.8904 - val_loss: 0.2626 - val_accuracy: 0.9022\n",
            "Epoch 9/10\n",
            "750/750 [==============================] - 8s 11ms/step - loss: 0.2968 - accuracy: 0.8941 - val_loss: 0.2699 - val_accuracy: 0.9055\n",
            "Epoch 10/10\n",
            "750/750 [==============================] - 8s 10ms/step - loss: 0.2957 - accuracy: 0.8951 - val_loss: 0.2607 - val_accuracy: 0.9066\n"
          ]
        }
      ]
    },
    {
      "cell_type": "code",
      "source": [
        "#Plot the loss and the loss_validation:\n",
        "plt.plot(history.history[\"loss\"],label=\"loss\")\n",
        "plt.plot(history.history[\"val_loss\"],label=\"loss validation\")\n",
        "plt.ylabel(\"Loss\")\n",
        "plt.xlabel(\"Epochs\")\n",
        "plt.title(\"Loss and Loss Validation\")\n",
        "plt.legend()"
      ],
      "metadata": {
        "colab": {
          "base_uri": "https://localhost:8080/",
          "height": 312
        },
        "id": "i0dSaGIW1veL",
        "outputId": "dbd4cb28-0f69-4100-fa21-acf07e61328d"
      },
      "execution_count": 17,
      "outputs": [
        {
          "output_type": "execute_result",
          "data": {
            "text/plain": [
              "<matplotlib.legend.Legend at 0x7fa78fc95d90>"
            ]
          },
          "metadata": {},
          "execution_count": 17
        },
        {
          "output_type": "display_data",
          "data": {
            "text/plain": [
              "<Figure size 432x288 with 1 Axes>"
            ],
            "image/png": "[encoded data removed]"
          },
          "metadata": {
            "needs_background": "light"
          }
        }
      ]
    },
    {
      "cell_type": "code",
      "source": [
        "#Plot the accuracy and the loss_validation:\n",
        "plt.plot(history.history[\"accuracy\"],label=\"accuracy\")\n",
        "plt.plot(history.history[\"val_accuracy\"],label=\"accuracy validation\")\n",
        "plt.ylabel(\"accuracy\")\n",
        "plt.xlabel(\"Epochs\")\n",
        "plt.title(\"accuracy and accuracy Validation\")\n",
        "plt.legend()"
      ],
      "metadata": {
        "colab": {
          "base_uri": "https://localhost:8080/",
          "height": 312
        },
        "id": "GIJhwRFB2bZp",
        "outputId": "2f38951a-a312-4c6a-974d-910e568f9681"
      },
      "execution_count": 18,
      "outputs": [
        {
          "output_type": "execute_result",
          "data": {
            "text/plain": [
              "<matplotlib.legend.Legend at 0x7fa7802a3820>"
            ]
          },
          "metadata": {},
          "execution_count": 18
        },
        {
          "output_type": "display_data",
          "data": {
            "text/plain": [
              "<Figure size 432x288 with 1 Axes>"
            ],
            "image/png": "[encoded data removed]"
          },
          "metadata": {
            "needs_background": "light"
          }
        }
      ]
    },
    {
      "cell_type": "markdown",
      "source": [
        "#Evaluating the model:"
      ],
      "metadata": {
        "id": "nW2YXCo54h_D"
      }
    },
    {
      "cell_type": "code",
      "source": [
        "model.evaluate(test_images,test_labels) #The accuracy is very good (>0.9)"
      ],
      "metadata": {
        "colab": {
          "base_uri": "https://localhost:8080/"
        },
        "id": "glxV1Q8j4hpO",
        "outputId": "f65cd3e1-689e-44ed-9155-363f91f1d69e"
      },
      "execution_count": 19,
      "outputs": [
        {
          "output_type": "stream",
          "name": "stdout",
          "text": [
            "313/313 [==============================] - 1s 4ms/step - loss: 0.2737 - accuracy: 0.9045\n"
          ]
        },
        {
          "output_type": "execute_result",
          "data": {
            "text/plain": [
              "[0.2736685872077942, 0.9045000076293945]"
            ]
          },
          "metadata": {},
          "execution_count": 19
        }
      ]
    },
    {
      "cell_type": "markdown",
      "source": [
        "#Callbacks: \n",
        "\n",
        "**The callbacks are a tool for drive the training of a NN, there are two types of callbakcs: Early Stopping and Checkpoins**"
      ],
      "metadata": {
        "id": "CvtOuZDS-WAG"
      }
    },
    {
      "cell_type": "markdown",
      "source": [
        "#Early Stopping:"
      ],
      "metadata": {
        "id": "-UVjkGDO-zZ9"
      }
    },
    {
      "cell_type": "code",
      "source": [
        "#Compiling my model:\n",
        "model.compile(loss=\"categorical_crossentropy\",optimizer=\"rmsprop\",metrics=[\"accuracy\"])"
      ],
      "metadata": {
        "id": "kjenVVk9_kUn"
      },
      "execution_count": 24,
      "outputs": []
    },
    {
      "cell_type": "code",
      "source": [
        "early=tf.keras.callbacks.EarlyStopping(monitor=\"accuracy\",patience=1) #Define the early stopping: accuracy is that I want to drive and patience is the number of epochs that I want to hope\n",
        "#Is say, if past 1 epochs (This a very small patience), the accuracy doesn´t improve, we stop the training"
      ],
      "metadata": {
        "id": "Ubh16Mvc-mei"
      },
      "execution_count": 25,
      "outputs": []
    },
    {
      "cell_type": "code",
      "source": [
        "#Training the model with the early stopping:\n",
        "history=model.fit(train_images,train_labels,batch_size=64,epochs=10,validation_split=0.2,callbacks=[early])"
      ],
      "metadata": {
        "colab": {
          "base_uri": "https://localhost:8080/"
        },
        "id": "_NHvUDeb_1b1",
        "outputId": "26cfdf07-c0ce-4f12-944b-efc6fd31d21a"
      },
      "execution_count": 26,
      "outputs": [
        {
          "output_type": "stream",
          "name": "stdout",
          "text": [
            "Epoch 1/10\n",
            "750/750 [==============================] - 6s 6ms/step - loss: 0.2799 - accuracy: 0.9020 - val_loss: 0.2371 - val_accuracy: 0.9131\n",
            "Epoch 2/10\n",
            "750/750 [==============================] - 6s 9ms/step - loss: 0.2743 - accuracy: 0.9040 - val_loss: 0.2496 - val_accuracy: 0.9125\n",
            "Epoch 3/10\n",
            "750/750 [==============================] - 5s 7ms/step - loss: 0.2692 - accuracy: 0.9047 - val_loss: 0.2522 - val_accuracy: 0.9099\n",
            "Epoch 4/10\n",
            "750/750 [==============================] - 6s 8ms/step - loss: 0.2730 - accuracy: 0.9050 - val_loss: 0.2626 - val_accuracy: 0.9074\n",
            "Epoch 5/10\n",
            "750/750 [==============================] - 4s 5ms/step - loss: 0.2710 - accuracy: 0.9068 - val_loss: 0.2570 - val_accuracy: 0.9123\n",
            "Epoch 6/10\n",
            "750/750 [==============================] - 4s 5ms/step - loss: 0.2691 - accuracy: 0.9065 - val_loss: 0.2635 - val_accuracy: 0.9093\n"
          ]
        }
      ]
    },
    {
      "cell_type": "markdown",
      "source": [
        "**Efectly, as past 1 epoch the accuracy didn´t improve, the training stopped**"
      ],
      "metadata": {
        "id": "CwZdPJohAXfX"
      }
    },
    {
      "cell_type": "markdown",
      "source": [
        "#Checkpoints:"
      ],
      "metadata": {
        "id": "DnryyF3eAteQ"
      }
    },
    {
      "cell_type": "code",
      "source": [
        "checkpoint=tf.keras.callbacks.ModelCheckpoint(filepath=\"my_first_CNN.hdf5\",verbose=1, monitor=\"accuracy\",save_best_only=True)#This is for storage in the file with extension \"hdf5\" the model in the which the accuracy was the best (we know that for every epoch of training we have a model), the training will be full"
      ],
      "metadata": {
        "id": "ik-GaKUyAXAD"
      },
      "execution_count": 30,
      "outputs": []
    },
    {
      "cell_type": "code",
      "source": [
        "#Compiling my model:\n",
        "model.compile(loss=\"categorical_crossentropy\",optimizer=\"rmsprop\",metrics=[\"accuracy\"])"
      ],
      "metadata": {
        "id": "6PHq60wBBs6V"
      },
      "execution_count": 27,
      "outputs": []
    },
    {
      "cell_type": "code",
      "source": [
        "#Training the model with the early stopping:\n",
        "history=model.fit(train_images,train_labels,batch_size=64,epochs=10,validation_split=0.2,callbacks=[checkpoint])"
      ],
      "metadata": {
        "colab": {
          "base_uri": "https://localhost:8080/"
        },
        "id": "nZGGfhDkBxu9",
        "outputId": "59117efe-870e-4ab5-f360-8b9fc070593e"
      },
      "execution_count": 31,
      "outputs": [
        {
          "output_type": "stream",
          "name": "stdout",
          "text": [
            "Epoch 1/10\n",
            "746/750 [============================>.] - ETA: 0s - loss: 0.2730 - accuracy: 0.9036\n",
            "Epoch 1: accuracy improved from -inf to 0.90367, saving model to my_first_CNN.hdf5\n",
            "750/750 [==============================] - 6s 6ms/step - loss: 0.2731 - accuracy: 0.9037 - val_loss: 0.2681 - val_accuracy: 0.9139\n",
            "Epoch 2/10\n",
            "745/750 [============================>.] - ETA: 0s - loss: 0.2699 - accuracy: 0.9053\n",
            "Epoch 2: accuracy improved from 0.90367 to 0.90535, saving model to my_first_CNN.hdf5\n",
            "750/750 [==============================] - 4s 5ms/step - loss: 0.2699 - accuracy: 0.9054 - val_loss: 0.2880 - val_accuracy: 0.9098\n",
            "Epoch 3/10\n",
            "746/750 [============================>.] - ETA: 0s - loss: 0.2663 - accuracy: 0.9082\n",
            "Epoch 3: accuracy improved from 0.90535 to 0.90802, saving model to my_first_CNN.hdf5\n",
            "750/750 [==============================] - 4s 6ms/step - loss: 0.2669 - accuracy: 0.9080 - val_loss: 0.3076 - val_accuracy: 0.9100\n",
            "Epoch 4/10\n",
            "745/750 [============================>.] - ETA: 0s - loss: 0.2675 - accuracy: 0.9073\n",
            "Epoch 4: accuracy did not improve from 0.90802\n",
            "750/750 [==============================] - 4s 5ms/step - loss: 0.2674 - accuracy: 0.9073 - val_loss: 0.2488 - val_accuracy: 0.9166\n",
            "Epoch 5/10\n",
            "745/750 [============================>.] - ETA: 0s - loss: 0.2681 - accuracy: 0.9072\n",
            "Epoch 5: accuracy did not improve from 0.90802\n",
            "750/750 [==============================] - 4s 5ms/step - loss: 0.2678 - accuracy: 0.9074 - val_loss: 0.2415 - val_accuracy: 0.9153\n",
            "Epoch 6/10\n",
            "745/750 [============================>.] - ETA: 0s - loss: 0.2621 - accuracy: 0.9087\n",
            "Epoch 6: accuracy improved from 0.90802 to 0.90852, saving model to my_first_CNN.hdf5\n",
            "750/750 [==============================] - 4s 6ms/step - loss: 0.2624 - accuracy: 0.9085 - val_loss: 0.3226 - val_accuracy: 0.9117\n",
            "Epoch 7/10\n",
            "746/750 [============================>.] - ETA: 0s - loss: 0.2677 - accuracy: 0.9074\n",
            "Epoch 7: accuracy did not improve from 0.90852\n",
            "750/750 [==============================] - 4s 5ms/step - loss: 0.2688 - accuracy: 0.9071 - val_loss: 0.2472 - val_accuracy: 0.9152\n",
            "Epoch 8/10\n",
            "745/750 [============================>.] - ETA: 0s - loss: 0.2657 - accuracy: 0.9059\n",
            "Epoch 8: accuracy did not improve from 0.90852\n",
            "750/750 [==============================] - 4s 5ms/step - loss: 0.2653 - accuracy: 0.9060 - val_loss: 0.2833 - val_accuracy: 0.9095\n",
            "Epoch 9/10\n",
            "748/750 [============================>.] - ETA: 0s - loss: 0.2659 - accuracy: 0.9073\n",
            "Epoch 9: accuracy did not improve from 0.90852\n",
            "750/750 [==============================] - 4s 6ms/step - loss: 0.2659 - accuracy: 0.9073 - val_loss: 0.2782 - val_accuracy: 0.9111\n",
            "Epoch 10/10\n",
            "749/750 [============================>.] - ETA: 0s - loss: 0.2664 - accuracy: 0.9084\n",
            "Epoch 10: accuracy did not improve from 0.90852\n",
            "750/750 [==============================] - 4s 5ms/step - loss: 0.2665 - accuracy: 0.9083 - val_loss: 0.2534 - val_accuracy: 0.9122\n"
          ]
        }
      ]
    },
    {
      "cell_type": "markdown",
      "source": [
        "**In the file \"my_first_CNN.hdf5\" we have the best possible model**"
      ],
      "metadata": {
        "id": "KhB7u3iyCMif"
      }
    },
    {
      "cell_type": "code",
      "source": [
        "#Loading the best model:\n",
        "model2=model\n",
        "model2.load_weights(\"/content/my_first_CNN.hdf5\")"
      ],
      "metadata": {
        "id": "ohNrUEHXCUbP"
      },
      "execution_count": 33,
      "outputs": []
    },
    {
      "cell_type": "code",
      "source": [
        "model2.evaluate(test_images,test_labels) #How we can see, the model improved with the checkpoint"
      ],
      "metadata": {
        "colab": {
          "base_uri": "https://localhost:8080/"
        },
        "id": "8pGOPE9lChhi",
        "outputId": "2fb046eb-4a9c-4260-dc54-5bad48631333"
      },
      "execution_count": 36,
      "outputs": [
        {
          "output_type": "stream",
          "name": "stdout",
          "text": [
            "313/313 [==============================] - 1s 3ms/step - loss: 0.3318 - accuracy: 0.9088\n"
          ]
        },
        {
          "output_type": "execute_result",
          "data": {
            "text/plain": [
              "[0.33181875944137573, 0.9088000059127808]"
            ]
          },
          "metadata": {},
          "execution_count": 36
        }
      ]
    },
    {
      "cell_type": "markdown",
      "source": [
        "**Note:** \n",
        "\n",
        "**- In this case I drive the training with the variable \"accuracy\"(metric), but I too can do we other variables, for example, the loss**\n",
        "\n",
        "**- Too I could combinate the early stopping with the checkpoint in the same training and do the evaluate and see what is the best**\n",
        "\n"
      ],
      "metadata": {
        "id": "8eQefLbFC6tn"
      }
    }
  ]
}