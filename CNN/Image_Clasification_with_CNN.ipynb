{
  "nbformat": 4,
  "nbformat_minor": 0,
  "metadata": {
    "colab": {
      "provenance": []
    },
    "kernelspec": {
      "name": "python3",
      "display_name": "Python 3"
    },
    "language_info": {
      "name": "python"
    },
    "accelerator": "GPU",
    "gpuClass": "standard"
  },
  "cells": [
    {
      "cell_type": "markdown",
      "source": [
        "**The idea is build a CNN for clasificate images of the dataset \"cifar10\", the which content cars, boats, airplanes, etc.**"
      ],
      "metadata": {
        "id": "ZRvHV0vylWog"
      }
    },
    {
      "cell_type": "code",
      "execution_count": 1,
      "metadata": {
        "id": "5QiXW-jfjfc8"
      },
      "outputs": [],
      "source": [
        "#Packages:\n",
        "from tensorflow import keras\n",
        "from tensorflow.keras.utils import to_categorical\n",
        "from tensorflow.keras.models import Sequential\n",
        "from tensorflow.keras.layers import Conv2D, MaxPooling2D, Flatten, Dense, Dropout, Activation\n",
        "from tensorflow.keras.datasets import cifar10\n",
        "\n",
        "import numpy as np\n",
        "import matplotlib.pyplot as plt\n"
      ]
    },
    {
      "cell_type": "code",
      "source": [
        "#Load the data:\n",
        "(x_train, y_train), (x_test, y_test)=cifar10.load_data()"
      ],
      "metadata": {
        "colab": {
          "base_uri": "https://localhost:8080/"
        },
        "id": "8L7artIZkyKh",
        "outputId": "580a8173-a3d2-4e52-dd07-a9252697517d"
      },
      "execution_count": 2,
      "outputs": [
        {
          "output_type": "stream",
          "name": "stdout",
          "text": [
            "Downloading data from https://www.cs.toronto.edu/~kriz/cifar-10-python.tar.gz\n",
            "170498071/170498071 [==============================] - 5s 0us/step\n"
          ]
        }
      ]
    },
    {
      "cell_type": "code",
      "source": [
        "x_train.shape #I have 50000 images of train where every one have resolution of 32x32 and is in RGB space color"
      ],
      "metadata": {
        "colab": {
          "base_uri": "https://localhost:8080/"
        },
        "id": "XVoWe2dMk80G",
        "outputId": "a7e03348-b838-49f5-bc75-71241fa833fa"
      },
      "execution_count": 3,
      "outputs": [
        {
          "output_type": "execute_result",
          "data": {
            "text/plain": [
              "(50000, 32, 32, 3)"
            ]
          },
          "metadata": {},
          "execution_count": 3
        }
      ]
    },
    {
      "cell_type": "code",
      "source": [
        "#Painting a image:\n",
        "plt.imshow(x_train[5])"
      ],
      "metadata": {
        "colab": {
          "base_uri": "https://localhost:8080/",
          "height": 283
        },
        "id": "CX8mNglolLFD",
        "outputId": "e3e5a1dd-b994-495c-ab4d-aa6b92c60b23"
      },
      "execution_count": 4,
      "outputs": [
        {
          "output_type": "execute_result",
          "data": {
            "text/plain": [
              "<matplotlib.image.AxesImage at 0x7f384c6a3850>"
            ]
          },
          "metadata": {},
          "execution_count": 4
        },
        {
          "output_type": "display_data",
          "data": {
            "text/plain": [
              "<Figure size 432x288 with 1 Axes>"
            ],
            "image/png": "[encoded data removed]"
          },
          "metadata": {
            "needs_background": "light"
          }
        }
      ]
    },
    {
      "cell_type": "markdown",
      "source": [
        "#Preprocessing:"
      ],
      "metadata": {
        "id": "CJKWpsMNloj7"
      }
    },
    {
      "cell_type": "code",
      "source": [
        "#Normalizing the images with MinMaxScaler:\n",
        "x_train=x_train.astype(\"float32\")/255\n",
        "x_test=x_test.astype(\"float32\")/255"
      ],
      "metadata": {
        "id": "lqD_jFgXlmII"
      },
      "execution_count": 5,
      "outputs": []
    },
    {
      "cell_type": "code",
      "source": [
        "len(np.unique(y_train)) #I have only 10 classes"
      ],
      "metadata": {
        "colab": {
          "base_uri": "https://localhost:8080/"
        },
        "id": "fw0zvqpomTEo",
        "outputId": "d338bbac-5d24-4d75-8fb2-30efef347141"
      },
      "execution_count": 6,
      "outputs": [
        {
          "output_type": "execute_result",
          "data": {
            "text/plain": [
              "10"
            ]
          },
          "metadata": {},
          "execution_count": 6
        }
      ]
    },
    {
      "cell_type": "code",
      "source": [
        "#Binarizing the labels:\n",
        "y_train=to_categorical(y_train,10)\n",
        "y_test=to_categorical(y_test,10)"
      ],
      "metadata": {
        "id": "fa1tzPjbma0E"
      },
      "execution_count": 7,
      "outputs": []
    },
    {
      "cell_type": "code",
      "source": [
        "y_train[0]"
      ],
      "metadata": {
        "colab": {
          "base_uri": "https://localhost:8080/"
        },
        "id": "dPNV0XcBmdOd",
        "outputId": "6e4608af-5ed2-44e9-e530-925c1769bca3"
      },
      "execution_count": 8,
      "outputs": [
        {
          "output_type": "execute_result",
          "data": {
            "text/plain": [
              "array([0., 0., 0., 0., 0., 0., 1., 0., 0., 0.], dtype=float32)"
            ]
          },
          "metadata": {},
          "execution_count": 8
        }
      ]
    },
    {
      "cell_type": "code",
      "source": [
        "#Train_test_val_split:\n",
        "(x_train,x_valid)=x_train[5000:],x_train[:5000]\n",
        "(y_train,y_valid)=y_train[5000:],y_train[:5000]\n",
        "\n",
        "x_train.shape, y_train.shape, x_valid.shape, y_valid.shape"
      ],
      "metadata": {
        "colab": {
          "base_uri": "https://localhost:8080/"
        },
        "id": "9mN0jx8Pmq09",
        "outputId": "a9f4fc3a-e579-48ee-c4a3-d7e0897aa267"
      },
      "execution_count": 9,
      "outputs": [
        {
          "output_type": "execute_result",
          "data": {
            "text/plain": [
              "((45000, 32, 32, 3), (45000, 10), (5000, 32, 32, 3), (5000, 10))"
            ]
          },
          "metadata": {},
          "execution_count": 9
        }
      ]
    },
    {
      "cell_type": "markdown",
      "source": [
        "#Building the model"
      ],
      "metadata": {
        "id": "F0CfiYF5nmam"
      }
    },
    {
      "cell_type": "code",
      "source": [
        "base_filtros=32 #Number of Kernels in the convolutional layers\n",
        "w_regularizer=1e-4 #weight of the relularizer"
      ],
      "metadata": {
        "id": "TBWdxVWEnsRA"
      },
      "execution_count": 10,
      "outputs": []
    },
    {
      "cell_type": "code",
      "source": [
        "from keras.api._v2.keras import regularizers\n",
        "model=Sequential()\n",
        "\n",
        "#First convolution layer:\n",
        "model.add(Conv2D(base_filtros,(3,3),padding=\"same\",kernel_regularizer=regularizers.l2(w_regularizer), input_shape=(32,32,3))) #put a regularizer with l2\n",
        "model.add(Activation(\"relu\")) #Put a Activation layer of type relu\n",
        "\n",
        "#Second convolution layer:\n",
        "model.add(Conv2D(base_filtros,(3,3),padding=\"same\",kernel_regularizer=regularizers.l2(w_regularizer))) #put a regularizer with l2\n",
        "model.add(Activation(\"relu\")) #Put a Activation layer of type relu\n",
        "model.add(MaxPooling2D(pool_size=(2,2))) #First MaxPooling Layer\n",
        "model.add(Dropout(0.2))\n",
        "\n",
        "\n",
        "#Convolution layer number 3 (Iqual but increase the number of kernels):\n",
        "model.add(Conv2D(2*base_filtros,(3,3),padding=\"same\",kernel_regularizer=regularizers.l2(w_regularizer))) #put a regularizer with l2\n",
        "model.add(Activation(\"relu\")) #Put a Activation layer of type relu\n",
        "model.add(Dropout(0.2))\n",
        "\n",
        "\n",
        "#Convolution layer number 4:\n",
        "model.add(Conv2D(2*base_filtros,(3,3),padding=\"same\",kernel_regularizer=regularizers.l2(w_regularizer))) #put a regularizer with l2\n",
        "model.add(Activation(\"relu\")) #Put a Activation layer of type relu\n",
        "model.add(MaxPooling2D(pool_size=(2,2))) #Second MaxPooling Layer\n",
        "model.add(Dropout(0.3))\n",
        "\n",
        "\n",
        "\n",
        "#Convolution layer number 5 (increase the number of kernels):\n",
        "model.add(Conv2D(4*base_filtros,(3,3),padding=\"same\",kernel_regularizer=regularizers.l2(w_regularizer))) #put a regularizer with l2\n",
        "model.add(Activation(\"relu\")) #Put a Activation layer of type relu\n",
        "\n",
        "#Convolution layer number 6:\n",
        "model.add(Conv2D(4*base_filtros,(3,3),padding=\"same\",kernel_regularizer=regularizers.l2(w_regularizer))) #put a regularizer with l2\n",
        "model.add(Activation(\"relu\")) #Put a Activation layer of type relu\n",
        "model.add(MaxPooling2D(pool_size=(2,2))) #MaxPooling Layer Number three\n",
        "model.add(Dropout(0.4))\n",
        "\n",
        "#Classifiation (with dense layer) and Flatten:\n",
        "model.add(Flatten())\n",
        "model.add(Dense(10,activation=\"softmax\"))\n"
      ],
      "metadata": {
        "id": "l2b0U1BCoKmU"
      },
      "execution_count": 11,
      "outputs": []
    },
    {
      "cell_type": "code",
      "source": [
        "#architecture of the model:\n",
        "model.summary() #Efectly the convolution layers increase the depth of my tensor and the pooling layer decrease the resolution of my tensor"
      ],
      "metadata": {
        "colab": {
          "base_uri": "https://localhost:8080/"
        },
        "id": "e12cI59Xsj4j",
        "outputId": "a0ddbdc3-5c15-4f34-87ee-bc1863cedebb"
      },
      "execution_count": 12,
      "outputs": [
        {
          "output_type": "stream",
          "name": "stdout",
          "text": [
            "Model: \"sequential\"\n",
            "_________________________________________________________________\n",
            " Layer (type)                Output Shape              Param #   \n",
            "=================================================================\n",
            " conv2d (Conv2D)             (None, 32, 32, 32)        896       \n",
            "                                                                 \n",
            " activation (Activation)     (None, 32, 32, 32)        0         \n",
            "                                                                 \n",
            " conv2d_1 (Conv2D)           (None, 32, 32, 32)        9248      \n",
            "                                                                 \n",
            " activation_1 (Activation)   (None, 32, 32, 32)        0         \n",
            "                                                                 \n",
            " max_pooling2d (MaxPooling2D  (None, 16, 16, 32)       0         \n",
            " )                                                               \n",
            "                                                                 \n",
            " dropout (Dropout)           (None, 16, 16, 32)        0         \n",
            "                                                                 \n",
            " conv2d_2 (Conv2D)           (None, 16, 16, 64)        18496     \n",
            "                                                                 \n",
            " activation_2 (Activation)   (None, 16, 16, 64)        0         \n",
            "                                                                 \n",
            " dropout_1 (Dropout)         (None, 16, 16, 64)        0         \n",
            "                                                                 \n",
            " conv2d_3 (Conv2D)           (None, 16, 16, 64)        36928     \n",
            "                                                                 \n",
            " activation_3 (Activation)   (None, 16, 16, 64)        0         \n",
            "                                                                 \n",
            " max_pooling2d_1 (MaxPooling  (None, 8, 8, 64)         0         \n",
            " 2D)                                                             \n",
            "                                                                 \n",
            " dropout_2 (Dropout)         (None, 8, 8, 64)          0         \n",
            "                                                                 \n",
            " conv2d_4 (Conv2D)           (None, 8, 8, 128)         73856     \n",
            "                                                                 \n",
            " activation_4 (Activation)   (None, 8, 8, 128)         0         \n",
            "                                                                 \n",
            " conv2d_5 (Conv2D)           (None, 8, 8, 128)         147584    \n",
            "                                                                 \n",
            " activation_5 (Activation)   (None, 8, 8, 128)         0         \n",
            "                                                                 \n",
            " max_pooling2d_2 (MaxPooling  (None, 4, 4, 128)        0         \n",
            " 2D)                                                             \n",
            "                                                                 \n",
            " dropout_3 (Dropout)         (None, 4, 4, 128)         0         \n",
            "                                                                 \n",
            " flatten (Flatten)           (None, 2048)              0         \n",
            "                                                                 \n",
            " dense (Dense)               (None, 10)                20490     \n",
            "                                                                 \n",
            "=================================================================\n",
            "Total params: 307,498\n",
            "Trainable params: 307,498\n",
            "Non-trainable params: 0\n",
            "_________________________________________________________________\n"
          ]
        }
      ]
    },
    {
      "cell_type": "code",
      "source": [
        "#Compile the model:\n",
        "model.compile(metrics=[\"accuracy\"],loss=\"categorical_crossentropy\",optimizer=\"rmsprop\")"
      ],
      "metadata": {
        "id": "YCMfdl8stPt4"
      },
      "execution_count": 13,
      "outputs": []
    },
    {
      "cell_type": "code",
      "source": [
        "#Training the model:\n",
        "history=model.fit(x_train,y_train,batch_size=32,epochs=100,validation_data=(x_valid,y_valid),verbose=2,shuffle=True)"
      ],
      "metadata": {
        "colab": {
          "base_uri": "https://localhost:8080/"
        },
        "id": "CdAOcs5xurcK",
        "outputId": "65e2ac5e-634b-483d-917b-32e7416f4308"
      },
      "execution_count": 14,
      "outputs": [
        {
          "output_type": "stream",
          "name": "stdout",
          "text": [
            "Epoch 1/100\n",
            "1407/1407 - 21s - loss: 1.7183 - accuracy: 0.3814 - val_loss: 1.4005 - val_accuracy: 0.5098 - 21s/epoch - 15ms/step\n",
            "Epoch 2/100\n",
            "1407/1407 - 9s - loss: 1.2656 - accuracy: 0.5659 - val_loss: 1.1590 - val_accuracy: 0.6136 - 9s/epoch - 6ms/step\n",
            "Epoch 3/100\n",
            "1407/1407 - 9s - loss: 1.0886 - accuracy: 0.6398 - val_loss: 1.0647 - val_accuracy: 0.6626 - 9s/epoch - 6ms/step\n",
            "Epoch 4/100\n",
            "1407/1407 - 9s - loss: 0.9899 - accuracy: 0.6812 - val_loss: 0.8401 - val_accuracy: 0.7282 - 9s/epoch - 6ms/step\n",
            "Epoch 5/100\n",
            "1407/1407 - 9s - loss: 0.9339 - accuracy: 0.7041 - val_loss: 1.0163 - val_accuracy: 0.6638 - 9s/epoch - 6ms/step\n",
            "Epoch 6/100\n",
            "1407/1407 - 9s - loss: 0.8981 - accuracy: 0.7216 - val_loss: 0.8367 - val_accuracy: 0.7466 - 9s/epoch - 6ms/step\n",
            "Epoch 7/100\n",
            "1407/1407 - 9s - loss: 0.8729 - accuracy: 0.7316 - val_loss: 0.9805 - val_accuracy: 0.6948 - 9s/epoch - 7ms/step\n",
            "Epoch 8/100\n",
            "1407/1407 - 10s - loss: 0.8620 - accuracy: 0.7367 - val_loss: 0.7516 - val_accuracy: 0.7760 - 10s/epoch - 7ms/step\n",
            "Epoch 9/100\n",
            "1407/1407 - 10s - loss: 0.8489 - accuracy: 0.7450 - val_loss: 0.8921 - val_accuracy: 0.7340 - 10s/epoch - 7ms/step\n",
            "Epoch 10/100\n",
            "1407/1407 - 9s - loss: 0.8465 - accuracy: 0.7477 - val_loss: 0.8435 - val_accuracy: 0.7512 - 9s/epoch - 6ms/step\n",
            "Epoch 11/100\n",
            "1407/1407 - 9s - loss: 0.8358 - accuracy: 0.7535 - val_loss: 0.7779 - val_accuracy: 0.7790 - 9s/epoch - 6ms/step\n",
            "Epoch 12/100\n",
            "1407/1407 - 9s - loss: 0.8356 - accuracy: 0.7535 - val_loss: 0.7873 - val_accuracy: 0.7760 - 9s/epoch - 7ms/step\n",
            "Epoch 13/100\n",
            "1407/1407 - 9s - loss: 0.8325 - accuracy: 0.7550 - val_loss: 0.8797 - val_accuracy: 0.7442 - 9s/epoch - 6ms/step\n",
            "Epoch 14/100\n",
            "1407/1407 - 9s - loss: 0.8355 - accuracy: 0.7560 - val_loss: 0.7802 - val_accuracy: 0.7846 - 9s/epoch - 6ms/step\n",
            "Epoch 15/100\n",
            "1407/1407 - 9s - loss: 0.8422 - accuracy: 0.7570 - val_loss: 0.7481 - val_accuracy: 0.7844 - 9s/epoch - 7ms/step\n",
            "Epoch 16/100\n",
            "1407/1407 - 10s - loss: 0.8399 - accuracy: 0.7573 - val_loss: 1.1709 - val_accuracy: 0.6728 - 10s/epoch - 7ms/step\n",
            "Epoch 17/100\n",
            "1407/1407 - 9s - loss: 0.8366 - accuracy: 0.7592 - val_loss: 0.8638 - val_accuracy: 0.7570 - 9s/epoch - 6ms/step\n",
            "Epoch 18/100\n",
            "1407/1407 - 9s - loss: 0.8438 - accuracy: 0.7565 - val_loss: 0.8428 - val_accuracy: 0.7468 - 9s/epoch - 6ms/step\n",
            "Epoch 19/100\n",
            "1407/1407 - 9s - loss: 0.8456 - accuracy: 0.7584 - val_loss: 0.9092 - val_accuracy: 0.7430 - 9s/epoch - 6ms/step\n",
            "Epoch 20/100\n",
            "1407/1407 - 9s - loss: 0.8468 - accuracy: 0.7574 - val_loss: 0.7920 - val_accuracy: 0.7762 - 9s/epoch - 6ms/step\n",
            "Epoch 21/100\n",
            "1407/1407 - 9s - loss: 0.8517 - accuracy: 0.7572 - val_loss: 0.8131 - val_accuracy: 0.7626 - 9s/epoch - 7ms/step\n",
            "Epoch 22/100\n",
            "1407/1407 - 8s - loss: 0.8572 - accuracy: 0.7558 - val_loss: 0.9477 - val_accuracy: 0.7232 - 8s/epoch - 6ms/step\n",
            "Epoch 23/100\n",
            "1407/1407 - 9s - loss: 0.8589 - accuracy: 0.7550 - val_loss: 0.8649 - val_accuracy: 0.7522 - 9s/epoch - 6ms/step\n",
            "Epoch 24/100\n",
            "1407/1407 - 9s - loss: 0.8634 - accuracy: 0.7539 - val_loss: 0.8676 - val_accuracy: 0.7508 - 9s/epoch - 6ms/step\n",
            "Epoch 25/100\n",
            "1407/1407 - 9s - loss: 0.8614 - accuracy: 0.7547 - val_loss: 0.8698 - val_accuracy: 0.7516 - 9s/epoch - 7ms/step\n",
            "Epoch 26/100\n",
            "1407/1407 - 9s - loss: 0.8673 - accuracy: 0.7527 - val_loss: 0.7916 - val_accuracy: 0.7804 - 9s/epoch - 6ms/step\n",
            "Epoch 27/100\n",
            "1407/1407 - 9s - loss: 0.8645 - accuracy: 0.7509 - val_loss: 0.8292 - val_accuracy: 0.7622 - 9s/epoch - 6ms/step\n",
            "Epoch 28/100\n",
            "1407/1407 - 9s - loss: 0.8694 - accuracy: 0.7518 - val_loss: 0.9849 - val_accuracy: 0.7242 - 9s/epoch - 6ms/step\n",
            "Epoch 29/100\n",
            "1407/1407 - 8s - loss: 0.8662 - accuracy: 0.7540 - val_loss: 0.7333 - val_accuracy: 0.7962 - 8s/epoch - 6ms/step\n",
            "Epoch 30/100\n",
            "1407/1407 - 9s - loss: 0.8664 - accuracy: 0.7534 - val_loss: 0.7643 - val_accuracy: 0.7848 - 9s/epoch - 6ms/step\n",
            "Epoch 31/100\n",
            "1407/1407 - 9s - loss: 0.8820 - accuracy: 0.7521 - val_loss: 0.8221 - val_accuracy: 0.7732 - 9s/epoch - 6ms/step\n",
            "Epoch 32/100\n",
            "1407/1407 - 9s - loss: 0.8798 - accuracy: 0.7510 - val_loss: 0.8706 - val_accuracy: 0.7556 - 9s/epoch - 7ms/step\n",
            "Epoch 33/100\n",
            "1407/1407 - 8s - loss: 0.8840 - accuracy: 0.7504 - val_loss: 0.8308 - val_accuracy: 0.7826 - 8s/epoch - 6ms/step\n",
            "Epoch 34/100\n",
            "1407/1407 - 9s - loss: 0.9004 - accuracy: 0.7454 - val_loss: 0.7786 - val_accuracy: 0.7822 - 9s/epoch - 6ms/step\n",
            "Epoch 35/100\n",
            "1407/1407 - 9s - loss: 0.9048 - accuracy: 0.7441 - val_loss: 0.8589 - val_accuracy: 0.7576 - 9s/epoch - 6ms/step\n",
            "Epoch 36/100\n",
            "1407/1407 - 9s - loss: 0.9034 - accuracy: 0.7447 - val_loss: 0.9814 - val_accuracy: 0.7310 - 9s/epoch - 6ms/step\n",
            "Epoch 37/100\n",
            "1407/1407 - 8s - loss: 0.9034 - accuracy: 0.7456 - val_loss: 0.8990 - val_accuracy: 0.7578 - 8s/epoch - 6ms/step\n",
            "Epoch 38/100\n",
            "1407/1407 - 9s - loss: 0.9192 - accuracy: 0.7418 - val_loss: 0.9213 - val_accuracy: 0.7436 - 9s/epoch - 6ms/step\n",
            "Epoch 39/100\n",
            "1407/1407 - 9s - loss: 0.9226 - accuracy: 0.7419 - val_loss: 0.9291 - val_accuracy: 0.7518 - 9s/epoch - 6ms/step\n",
            "Epoch 40/100\n",
            "1407/1407 - 9s - loss: 0.9267 - accuracy: 0.7394 - val_loss: 1.0136 - val_accuracy: 0.7172 - 9s/epoch - 6ms/step\n",
            "Epoch 41/100\n",
            "1407/1407 - 8s - loss: 0.9339 - accuracy: 0.7362 - val_loss: 0.9186 - val_accuracy: 0.7538 - 8s/epoch - 6ms/step\n",
            "Epoch 42/100\n",
            "1407/1407 - 9s - loss: 0.9312 - accuracy: 0.7385 - val_loss: 0.8792 - val_accuracy: 0.7514 - 9s/epoch - 6ms/step\n",
            "Epoch 43/100\n",
            "1407/1407 - 10s - loss: 0.9399 - accuracy: 0.7394 - val_loss: 0.9234 - val_accuracy: 0.7430 - 10s/epoch - 7ms/step\n",
            "Epoch 44/100\n",
            "1407/1407 - 9s - loss: 0.9356 - accuracy: 0.7389 - val_loss: 0.9548 - val_accuracy: 0.7312 - 9s/epoch - 6ms/step\n",
            "Epoch 45/100\n",
            "1407/1407 - 9s - loss: 0.9358 - accuracy: 0.7377 - val_loss: 0.8918 - val_accuracy: 0.7456 - 9s/epoch - 6ms/step\n",
            "Epoch 46/100\n",
            "1407/1407 - 9s - loss: 0.9434 - accuracy: 0.7366 - val_loss: 0.9063 - val_accuracy: 0.7396 - 9s/epoch - 6ms/step\n",
            "Epoch 47/100\n",
            "1407/1407 - 9s - loss: 0.9534 - accuracy: 0.7333 - val_loss: 1.0852 - val_accuracy: 0.7018 - 9s/epoch - 6ms/step\n",
            "Epoch 48/100\n",
            "1407/1407 - 8s - loss: 0.9591 - accuracy: 0.7295 - val_loss: 1.1669 - val_accuracy: 0.7018 - 8s/epoch - 6ms/step\n",
            "Epoch 49/100\n",
            "1407/1407 - 9s - loss: 0.9625 - accuracy: 0.7287 - val_loss: 0.8311 - val_accuracy: 0.7690 - 9s/epoch - 6ms/step\n",
            "Epoch 50/100\n",
            "1407/1407 - 9s - loss: 0.9730 - accuracy: 0.7248 - val_loss: 0.9908 - val_accuracy: 0.7214 - 9s/epoch - 6ms/step\n",
            "Epoch 51/100\n",
            "1407/1407 - 9s - loss: 0.9694 - accuracy: 0.7292 - val_loss: 0.8469 - val_accuracy: 0.7658 - 9s/epoch - 6ms/step\n",
            "Epoch 52/100\n",
            "1407/1407 - 8s - loss: 0.9741 - accuracy: 0.7289 - val_loss: 1.1161 - val_accuracy: 0.6972 - 8s/epoch - 6ms/step\n",
            "Epoch 53/100\n",
            "1407/1407 - 9s - loss: 0.9794 - accuracy: 0.7268 - val_loss: 1.6597 - val_accuracy: 0.5832 - 9s/epoch - 6ms/step\n",
            "Epoch 54/100\n",
            "1407/1407 - 9s - loss: 0.9927 - accuracy: 0.7212 - val_loss: 1.1221 - val_accuracy: 0.6994 - 9s/epoch - 6ms/step\n",
            "Epoch 55/100\n",
            "1407/1407 - 9s - loss: 0.9865 - accuracy: 0.7230 - val_loss: 1.0119 - val_accuracy: 0.7174 - 9s/epoch - 6ms/step\n",
            "Epoch 56/100\n",
            "1407/1407 - 8s - loss: 0.9976 - accuracy: 0.7210 - val_loss: 1.0815 - val_accuracy: 0.6908 - 8s/epoch - 6ms/step\n",
            "Epoch 57/100\n",
            "1407/1407 - 9s - loss: 1.0056 - accuracy: 0.7184 - val_loss: 0.9349 - val_accuracy: 0.7468 - 9s/epoch - 6ms/step\n",
            "Epoch 58/100\n",
            "1407/1407 - 9s - loss: 0.9884 - accuracy: 0.7220 - val_loss: 0.8428 - val_accuracy: 0.7588 - 9s/epoch - 6ms/step\n",
            "Epoch 59/100\n",
            "1407/1407 - 8s - loss: 1.0042 - accuracy: 0.7197 - val_loss: 1.1146 - val_accuracy: 0.6650 - 8s/epoch - 6ms/step\n",
            "Epoch 60/100\n",
            "1407/1407 - 9s - loss: 1.0147 - accuracy: 0.7128 - val_loss: 0.8826 - val_accuracy: 0.7376 - 9s/epoch - 6ms/step\n",
            "Epoch 61/100\n",
            "1407/1407 - 9s - loss: 1.0202 - accuracy: 0.7118 - val_loss: 0.9901 - val_accuracy: 0.7230 - 9s/epoch - 6ms/step\n",
            "Epoch 62/100\n",
            "1407/1407 - 9s - loss: 1.0207 - accuracy: 0.7121 - val_loss: 1.1211 - val_accuracy: 0.6836 - 9s/epoch - 6ms/step\n",
            "Epoch 63/100\n",
            "1407/1407 - 8s - loss: 1.0316 - accuracy: 0.7110 - val_loss: 1.2745 - val_accuracy: 0.6336 - 8s/epoch - 6ms/step\n",
            "Epoch 64/100\n",
            "1407/1407 - 9s - loss: 1.0402 - accuracy: 0.7067 - val_loss: 0.9395 - val_accuracy: 0.7298 - 9s/epoch - 6ms/step\n",
            "Epoch 65/100\n",
            "1407/1407 - 9s - loss: 1.0431 - accuracy: 0.7056 - val_loss: 0.9548 - val_accuracy: 0.7354 - 9s/epoch - 6ms/step\n",
            "Epoch 66/100\n",
            "1407/1407 - 9s - loss: 1.0519 - accuracy: 0.7042 - val_loss: 0.9727 - val_accuracy: 0.7268 - 9s/epoch - 6ms/step\n",
            "Epoch 67/100\n",
            "1407/1407 - 8s - loss: 1.0526 - accuracy: 0.7066 - val_loss: 1.1862 - val_accuracy: 0.6916 - 8s/epoch - 6ms/step\n",
            "Epoch 68/100\n",
            "1407/1407 - 9s - loss: 1.0556 - accuracy: 0.7009 - val_loss: 0.9400 - val_accuracy: 0.7416 - 9s/epoch - 6ms/step\n",
            "Epoch 69/100\n",
            "1407/1407 - 9s - loss: 1.0494 - accuracy: 0.7036 - val_loss: 1.7392 - val_accuracy: 0.5964 - 9s/epoch - 6ms/step\n",
            "Epoch 70/100\n",
            "1407/1407 - 9s - loss: 1.0626 - accuracy: 0.7019 - val_loss: 0.9699 - val_accuracy: 0.7226 - 9s/epoch - 6ms/step\n",
            "Epoch 71/100\n",
            "1407/1407 - 9s - loss: 1.0605 - accuracy: 0.7003 - val_loss: 1.0201 - val_accuracy: 0.7008 - 9s/epoch - 6ms/step\n",
            "Epoch 72/100\n",
            "1407/1407 - 9s - loss: 1.0649 - accuracy: 0.6973 - val_loss: 1.2739 - val_accuracy: 0.6716 - 9s/epoch - 6ms/step\n",
            "Epoch 73/100\n",
            "1407/1407 - 9s - loss: 1.0705 - accuracy: 0.6981 - val_loss: 1.0582 - val_accuracy: 0.7092 - 9s/epoch - 7ms/step\n",
            "Epoch 74/100\n",
            "1407/1407 - 8s - loss: 1.0840 - accuracy: 0.6939 - val_loss: 1.3947 - val_accuracy: 0.5912 - 8s/epoch - 6ms/step\n",
            "Epoch 75/100\n",
            "1407/1407 - 9s - loss: 1.0953 - accuracy: 0.6930 - val_loss: 1.0859 - val_accuracy: 0.6760 - 9s/epoch - 6ms/step\n",
            "Epoch 76/100\n",
            "1407/1407 - 9s - loss: 1.1054 - accuracy: 0.6892 - val_loss: 1.1993 - val_accuracy: 0.6326 - 9s/epoch - 6ms/step\n",
            "Epoch 77/100\n",
            "1407/1407 - 8s - loss: 1.1107 - accuracy: 0.6901 - val_loss: 1.0942 - val_accuracy: 0.7104 - 8s/epoch - 6ms/step\n",
            "Epoch 78/100\n",
            "1407/1407 - 9s - loss: 1.1060 - accuracy: 0.6876 - val_loss: 0.9786 - val_accuracy: 0.7176 - 9s/epoch - 6ms/step\n",
            "Epoch 79/100\n",
            "1407/1407 - 9s - loss: 1.1290 - accuracy: 0.6812 - val_loss: 1.4076 - val_accuracy: 0.5520 - 9s/epoch - 6ms/step\n",
            "Epoch 80/100\n",
            "1407/1407 - 9s - loss: 1.1241 - accuracy: 0.6810 - val_loss: 1.2878 - val_accuracy: 0.6610 - 9s/epoch - 6ms/step\n",
            "Epoch 81/100\n",
            "1407/1407 - 8s - loss: 1.1445 - accuracy: 0.6766 - val_loss: 3.0977 - val_accuracy: 0.4280 - 8s/epoch - 6ms/step\n",
            "Epoch 82/100\n",
            "1407/1407 - 9s - loss: 1.1446 - accuracy: 0.6777 - val_loss: 1.0799 - val_accuracy: 0.6914 - 9s/epoch - 6ms/step\n",
            "Epoch 83/100\n",
            "1407/1407 - 9s - loss: 1.1517 - accuracy: 0.6748 - val_loss: 0.9495 - val_accuracy: 0.7360 - 9s/epoch - 6ms/step\n",
            "Epoch 84/100\n",
            "1407/1407 - 9s - loss: 1.1646 - accuracy: 0.6709 - val_loss: 1.0452 - val_accuracy: 0.6868 - 9s/epoch - 7ms/step\n",
            "Epoch 85/100\n",
            "1407/1407 - 8s - loss: 1.1658 - accuracy: 0.6684 - val_loss: 1.2074 - val_accuracy: 0.6676 - 8s/epoch - 6ms/step\n",
            "Epoch 86/100\n",
            "1407/1407 - 9s - loss: 1.1901 - accuracy: 0.6640 - val_loss: 1.0263 - val_accuracy: 0.7176 - 9s/epoch - 6ms/step\n",
            "Epoch 87/100\n",
            "1407/1407 - 9s - loss: 1.1799 - accuracy: 0.6680 - val_loss: 1.3539 - val_accuracy: 0.5884 - 9s/epoch - 6ms/step\n",
            "Epoch 88/100\n",
            "1407/1407 - 8s - loss: 1.1843 - accuracy: 0.6637 - val_loss: 1.1835 - val_accuracy: 0.6850 - 8s/epoch - 6ms/step\n",
            "Epoch 89/100\n",
            "1407/1407 - 9s - loss: 1.1837 - accuracy: 0.6663 - val_loss: 1.0219 - val_accuracy: 0.7098 - 9s/epoch - 6ms/step\n",
            "Epoch 90/100\n",
            "1407/1407 - 9s - loss: 1.1932 - accuracy: 0.6604 - val_loss: 1.8196 - val_accuracy: 0.5822 - 9s/epoch - 6ms/step\n",
            "Epoch 91/100\n",
            "1407/1407 - 9s - loss: 1.2016 - accuracy: 0.6582 - val_loss: 1.0535 - val_accuracy: 0.7062 - 9s/epoch - 6ms/step\n",
            "Epoch 92/100\n",
            "1407/1407 - 8s - loss: 1.2218 - accuracy: 0.6520 - val_loss: 1.0224 - val_accuracy: 0.7078 - 8s/epoch - 6ms/step\n",
            "Epoch 93/100\n",
            "1407/1407 - 9s - loss: 1.2191 - accuracy: 0.6548 - val_loss: 1.7938 - val_accuracy: 0.5974 - 9s/epoch - 6ms/step\n",
            "Epoch 94/100\n",
            "1407/1407 - 9s - loss: 1.2240 - accuracy: 0.6532 - val_loss: 1.0821 - val_accuracy: 0.6756 - 9s/epoch - 6ms/step\n",
            "Epoch 95/100\n",
            "1407/1407 - 8s - loss: 1.2426 - accuracy: 0.6476 - val_loss: 1.2361 - val_accuracy: 0.6672 - 8s/epoch - 6ms/step\n",
            "Epoch 96/100\n",
            "1407/1407 - 9s - loss: 1.2344 - accuracy: 0.6478 - val_loss: 0.9816 - val_accuracy: 0.7226 - 9s/epoch - 7ms/step\n",
            "Epoch 97/100\n",
            "1407/1407 - 9s - loss: 1.2288 - accuracy: 0.6480 - val_loss: 1.3930 - val_accuracy: 0.6316 - 9s/epoch - 6ms/step\n",
            "Epoch 98/100\n",
            "1407/1407 - 9s - loss: 1.2319 - accuracy: 0.6441 - val_loss: 1.0775 - val_accuracy: 0.6896 - 9s/epoch - 6ms/step\n",
            "Epoch 99/100\n",
            "1407/1407 - 8s - loss: 1.2433 - accuracy: 0.6431 - val_loss: 1.2271 - val_accuracy: 0.6462 - 8s/epoch - 6ms/step\n",
            "Epoch 100/100\n",
            "1407/1407 - 9s - loss: 1.2433 - accuracy: 0.6450 - val_loss: 1.1654 - val_accuracy: 0.6482 - 9s/epoch - 6ms/step\n"
          ]
        }
      ]
    },
    {
      "cell_type": "code",
      "source": [
        "#Plotting the accuracy:\n",
        "plt.plot(history.history[\"accuracy\"],label=\"Training Accuracy\")\n",
        "plt.plot(history.history[\"val_accuracy\"],label=\"Validation Accuracy\")\n",
        "plt.xlabel(\"Epochs\")\n",
        "plt.ylabel(\"Accuracy\")\n",
        "plt.title(\"Accuracy Training Vs Accuracy Validation\")\n",
        "plt.legend(loc=\"best\")"
      ],
      "metadata": {
        "colab": {
          "base_uri": "https://localhost:8080/",
          "height": 312
        },
        "id": "iSrcjpqk1jZU",
        "outputId": "8edf1e97-b069-4152-92b3-0f4ad862fc79"
      },
      "execution_count": 15,
      "outputs": [
        {
          "output_type": "execute_result",
          "data": {
            "text/plain": [
              "<matplotlib.legend.Legend at 0x7f3818223fd0>"
            ]
          },
          "metadata": {},
          "execution_count": 15
        },
        {
          "output_type": "display_data",
          "data": {
            "text/plain": [
              "<Figure size 432x288 with 1 Axes>"
            ],
            "image/png": "[encoded data removed]"
          },
          "metadata": {
            "needs_background": "light"
          }
        }
      ]
    },
    {
      "cell_type": "code",
      "source": [
        "#Plotting the loss:\n",
        "plt.plot(history.history[\"loss\"],label=\"Training loss\")\n",
        "plt.plot(history.history[\"val_loss\"],label=\"Validation loss\")\n",
        "plt.xlabel(\"Epochs\")\n",
        "plt.ylabel(\"Loss\")\n",
        "plt.title(\"Loss Training Vs Loss Validation\")\n",
        "plt.legend(loc=\"best\")"
      ],
      "metadata": {
        "colab": {
          "base_uri": "https://localhost:8080/",
          "height": 312
        },
        "id": "jUUt5SrK1_Ts",
        "outputId": "6a592bc2-254b-4266-8b39-0c1073dd85ef"
      },
      "execution_count": 16,
      "outputs": [
        {
          "output_type": "execute_result",
          "data": {
            "text/plain": [
              "<matplotlib.legend.Legend at 0x7f38181948b0>"
            ]
          },
          "metadata": {},
          "execution_count": 16
        },
        {
          "output_type": "display_data",
          "data": {
            "text/plain": [
              "<Figure size 432x288 with 1 Axes>"
            ],
            "image/png": "[encoded data removed]"
          },
          "metadata": {
            "needs_background": "light"
          }
        }
      ]
    },
    {
      "cell_type": "code",
      "source": [
        "model.evaluate(x_test,y_test)"
      ],
      "metadata": {
        "colab": {
          "base_uri": "https://localhost:8080/"
        },
        "id": "jAs4unPt2i7-",
        "outputId": "cdb35808-9db1-412c-9cf6-cbace1724ab5"
      },
      "execution_count": 17,
      "outputs": [
        {
          "output_type": "stream",
          "name": "stdout",
          "text": [
            "313/313 [==============================] - 1s 4ms/step - loss: 1.1818 - accuracy: 0.6421\n"
          ]
        },
        {
          "output_type": "execute_result",
          "data": {
            "text/plain": [
              "[1.1817926168441772, 0.6420999765396118]"
            ]
          },
          "metadata": {},
          "execution_count": 17
        }
      ]
    },
    {
      "cell_type": "markdown",
      "source": [
        "**How we can see, the performance is not very good**"
      ],
      "metadata": {
        "id": "k19YVNWL2ibO"
      }
    }
  ]
}