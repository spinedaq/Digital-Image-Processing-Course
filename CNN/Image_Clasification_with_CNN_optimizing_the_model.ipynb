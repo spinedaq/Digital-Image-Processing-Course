{
  "nbformat": 4,
  "nbformat_minor": 0,
  "metadata": {
    "colab": {
      "provenance": []
    },
    "kernelspec": {
      "name": "python3",
      "display_name": "Python 3"
    },
    "language_info": {
      "name": "python"
    },
    "accelerator": "GPU",
    "gpuClass": "standard"
  },
  "cells": [
    {
      "cell_type": "markdown",
      "source": [
        "**The idea is build a CNN for clasificate images of the dataset \"cifar10\", the which content cars, boats, airplanes, etc.**"
      ],
      "metadata": {
        "id": "ZRvHV0vylWog"
      }
    },
    {
      "cell_type": "code",
      "execution_count": 18,
      "metadata": {
        "id": "5QiXW-jfjfc8"
      },
      "outputs": [],
      "source": [
        "#Packages:\n",
        "from tensorflow import keras\n",
        "from tensorflow.keras.utils import to_categorical\n",
        "from tensorflow.keras.models import Sequential\n",
        "from tensorflow.keras.layers import Conv2D, MaxPooling2D, Flatten, Dense, Dropout, Activation\n",
        "from tensorflow.keras.datasets import cifar10\n",
        "\n",
        "#Packages from optimizing the model:\n",
        "from tensorflow.keras.preprocessing.image import ImageDataGenerator\n",
        "from tensorflow.keras.layers import BatchNormalization\n",
        "from tensorflow.keras.callbacks import ModelCheckpoint\n",
        "from tensorflow.keras import optimizers\n",
        "\n",
        "import numpy as np\n",
        "import matplotlib.pyplot as plt\n"
      ]
    },
    {
      "cell_type": "code",
      "source": [
        "#Load the data:\n",
        "(x_train, y_train), (x_test, y_test)=cifar10.load_data()"
      ],
      "metadata": {
        "colab": {
          "base_uri": "https://localhost:8080/"
        },
        "id": "8L7artIZkyKh",
        "outputId": "2069567a-8894-4d27-812e-e5fdfd47d558"
      },
      "execution_count": 2,
      "outputs": [
        {
          "output_type": "stream",
          "name": "stdout",
          "text": [
            "Downloading data from https://www.cs.toronto.edu/~kriz/cifar-10-python.tar.gz\n",
            "170498071/170498071 [==============================] - 17s 0us/step\n"
          ]
        }
      ]
    },
    {
      "cell_type": "code",
      "source": [
        "x_train.shape #I have 50000 images of train where every one have resolution of 32x32 and is in RGB space color"
      ],
      "metadata": {
        "colab": {
          "base_uri": "https://localhost:8080/"
        },
        "id": "XVoWe2dMk80G",
        "outputId": "1d5881a1-2262-4178-9269-9f4241495b16"
      },
      "execution_count": 3,
      "outputs": [
        {
          "output_type": "execute_result",
          "data": {
            "text/plain": [
              "(50000, 32, 32, 3)"
            ]
          },
          "metadata": {},
          "execution_count": 3
        }
      ]
    },
    {
      "cell_type": "code",
      "source": [
        "#Painting a image:\n",
        "plt.imshow(x_train[5])"
      ],
      "metadata": {
        "colab": {
          "base_uri": "https://localhost:8080/",
          "height": 283
        },
        "id": "CX8mNglolLFD",
        "outputId": "8a7ed7cd-695e-4436-e3d7-b1074f434e94"
      },
      "execution_count": 4,
      "outputs": [
        {
          "output_type": "execute_result",
          "data": {
            "text/plain": [
              "<matplotlib.image.AxesImage at 0x7f5950028d00>"
            ]
          },
          "metadata": {},
          "execution_count": 4
        },
        {
          "output_type": "display_data",
          "data": {
            "text/plain": [
              "<Figure size 432x288 with 1 Axes>"
            ],
            "image/png": "[encoded data removed]"
          },
          "metadata": {
            "needs_background": "light"
          }
        }
      ]
    },
    {
      "cell_type": "markdown",
      "source": [
        "#Preprocessing:"
      ],
      "metadata": {
        "id": "CJKWpsMNloj7"
      }
    },
    {
      "cell_type": "code",
      "source": [
        "x_train=x_train.astype(\"float32\")\n",
        "x_test=x_test.astype(\"float32\")/255"
      ],
      "metadata": {
        "id": "lqD_jFgXlmII"
      },
      "execution_count": 5,
      "outputs": []
    },
    {
      "cell_type": "code",
      "source": [
        "len(np.unique(y_train)) #I have only 10 classes"
      ],
      "metadata": {
        "colab": {
          "base_uri": "https://localhost:8080/"
        },
        "id": "fw0zvqpomTEo",
        "outputId": "4a89754e-b07e-4f1f-8633-ee3bee424e0e"
      },
      "execution_count": 6,
      "outputs": [
        {
          "output_type": "execute_result",
          "data": {
            "text/plain": [
              "10"
            ]
          },
          "metadata": {},
          "execution_count": 6
        }
      ]
    },
    {
      "cell_type": "code",
      "source": [
        "#Binarizing the labels:\n",
        "y_train=to_categorical(y_train,10)\n",
        "y_test=to_categorical(y_test,10)"
      ],
      "metadata": {
        "id": "fa1tzPjbma0E"
      },
      "execution_count": 7,
      "outputs": []
    },
    {
      "cell_type": "code",
      "source": [
        "y_train[0]"
      ],
      "metadata": {
        "colab": {
          "base_uri": "https://localhost:8080/"
        },
        "id": "dPNV0XcBmdOd",
        "outputId": "3895fc3a-ecef-404f-e06f-acde88a7b87b"
      },
      "execution_count": 8,
      "outputs": [
        {
          "output_type": "execute_result",
          "data": {
            "text/plain": [
              "array([0., 0., 0., 0., 0., 0., 1., 0., 0., 0.], dtype=float32)"
            ]
          },
          "metadata": {},
          "execution_count": 8
        }
      ]
    },
    {
      "cell_type": "code",
      "source": [
        "#Normalizing the data lessing the mean and the standard desviation to every data (This stayes the data between 0 and 1):\n",
        "mean=np.mean(x_train)\n",
        "sd=np.std(x_train)\n",
        "#I add a very samll number in the denominator for if the sd=0\n",
        "x_train=(x_train-mean)/(sd+1e-7)\n",
        "x_test=(x_test-mean)/(sd+1e-7) #IU normalize with the mean and the sd of the train set because the idea is that the network doesn´t know these parameters of the test set "
      ],
      "metadata": {
        "id": "rWgawNSkLFTL"
      },
      "execution_count": 9,
      "outputs": []
    },
    {
      "cell_type": "code",
      "source": [
        "#Train_test_val_split:\n",
        "(x_train,x_valid)=x_train[5000:],x_train[:5000]\n",
        "(y_train,y_valid)=y_train[5000:],y_train[:5000]\n",
        "\n",
        "x_train.shape, y_train.shape, x_valid.shape, y_valid.shape"
      ],
      "metadata": {
        "colab": {
          "base_uri": "https://localhost:8080/"
        },
        "id": "9mN0jx8Pmq09",
        "outputId": "5a04c00b-3d9e-4cda-d07a-746f40a2feb1"
      },
      "execution_count": 10,
      "outputs": [
        {
          "output_type": "execute_result",
          "data": {
            "text/plain": [
              "((45000, 32, 32, 3), (45000, 10), (5000, 32, 32, 3), (5000, 10))"
            ]
          },
          "metadata": {},
          "execution_count": 10
        }
      ]
    },
    {
      "cell_type": "markdown",
      "source": [
        "#Data Augmentation:"
      ],
      "metadata": {
        "id": "y5QLxE5hNAKb"
      }
    },
    {
      "cell_type": "code",
      "source": [
        "datagen=ImageDataGenerator(rotation_range=15,\n",
        "                   width_shift_range=0.1,\n",
        "                   height_shift_range=0.1,\n",
        "                   horizontal_flip=True,\n",
        "                   vertical_flip=True\n",
        "                   )"
      ],
      "metadata": {
        "id": "mSygtRW0NDUk"
      },
      "execution_count": 15,
      "outputs": []
    },
    {
      "cell_type": "markdown",
      "source": [
        "#Building the model"
      ],
      "metadata": {
        "id": "F0CfiYF5nmam"
      }
    },
    {
      "cell_type": "code",
      "source": [
        "base_filtros=32 #Number of Kernels in the convolutional layers\n",
        "w_regularizer=1e-4 #weight of the relularizer"
      ],
      "metadata": {
        "id": "TBWdxVWEnsRA"
      },
      "execution_count": 11,
      "outputs": []
    },
    {
      "cell_type": "code",
      "source": [
        "from keras.api._v2.keras import regularizers\n",
        "model=Sequential()\n",
        "\n",
        "#First convolution layer:\n",
        "model.add(Conv2D(base_filtros,(3,3),padding=\"same\",kernel_regularizer=regularizers.l2(w_regularizer), input_shape=(32,32,3))) #put a regularizer with l2\n",
        "model.add(Activation(\"relu\")) #Put a Activation layer of type relu\n",
        "model.add(BatchNormalization()) #BatchNormalization Layer\n",
        "\n",
        "#Second convolution layer:\n",
        "model.add(Conv2D(base_filtros,(3,3),padding=\"same\",kernel_regularizer=regularizers.l2(w_regularizer))) #put a regularizer with l2\n",
        "model.add(Activation(\"relu\")) #Put a Activation layer of type relu OR SIMPLY I COULD PUT A ACTIVATION FUNCTION IN THE CONVOLUTIONAL LAYER\n",
        "model.add(BatchNormalization()) #BatchNormalization Layer\n",
        "model.add(MaxPooling2D(pool_size=(2,2))) #First MaxPooling Layer\n",
        "model.add(Dropout(0.2))\n",
        "\n",
        "\n",
        "#Convolution layer number 3 (Iqual but increase the number of kernels):\n",
        "model.add(Conv2D(2*base_filtros,(3,3),padding=\"same\",kernel_regularizer=regularizers.l2(w_regularizer))) #put a regularizer with l2\n",
        "model.add(Activation(\"relu\")) #Put a Activation layer of type relu\n",
        "model.add(BatchNormalization()) #BatchNormalization Layer\n",
        "model.add(Dropout(0.2))\n",
        "\n",
        "\n",
        "#Convolution layer number 4:\n",
        "model.add(Conv2D(2*base_filtros,(3,3),padding=\"same\",kernel_regularizer=regularizers.l2(w_regularizer))) #put a regularizer with l2\n",
        "model.add(Activation(\"relu\")) #Put a Activation layer of type relu\n",
        "model.add(BatchNormalization()) #BatchNormalization Layer\n",
        "model.add(MaxPooling2D(pool_size=(2,2))) #Second MaxPooling Layer\n",
        "model.add(Dropout(0.3))\n",
        "\n",
        "\n",
        "\n",
        "#Convolution layer number 5 (increase the number of kernels):\n",
        "model.add(Conv2D(4*base_filtros,(3,3),padding=\"same\",kernel_regularizer=regularizers.l2(w_regularizer))) #put a regularizer with l2\n",
        "model.add(Activation(\"relu\")) #Put a Activation layer of type relu\n",
        "model.add(BatchNormalization()) #BatchNormalization Layer\n",
        "\n",
        "#Convolution layer number 6:\n",
        "model.add(Conv2D(4*base_filtros,(3,3),padding=\"same\",kernel_regularizer=regularizers.l2(w_regularizer))) #put a regularizer with l2\n",
        "model.add(Activation(\"relu\")) #Put a Activation layer of type relu\n",
        "model.add(BatchNormalization()) #BatchNormalization Layer\n",
        "model.add(MaxPooling2D(pool_size=(2,2))) #MaxPooling Layer Number three\n",
        "model.add(Dropout(0.4))\n",
        "\n",
        "#Classifiation (with dense layer) and Flatten:\n",
        "model.add(Flatten())\n",
        "model.add(Dense(10,activation=\"softmax\"))\n"
      ],
      "metadata": {
        "id": "l2b0U1BCoKmU"
      },
      "execution_count": 12,
      "outputs": []
    },
    {
      "cell_type": "markdown",
      "source": [
        "**How we can see, generally after of a convolution layer, there is a activation layer and generally after of a activation layer there is a Batch Normalization layer **"
      ],
      "metadata": {
        "id": "ypPIhxekMjZ5"
      }
    },
    {
      "cell_type": "code",
      "source": [
        "#architecture of the model:\n",
        "model.summary() #Efectly the convolution layers increase the depth of my tensor and the pooling layer decrease the resolution of my tensor"
      ],
      "metadata": {
        "colab": {
          "base_uri": "https://localhost:8080/"
        },
        "id": "e12cI59Xsj4j",
        "outputId": "172bc1b9-c28d-4bcf-bac2-8cd462e37c8d"
      },
      "execution_count": 13,
      "outputs": [
        {
          "output_type": "stream",
          "name": "stdout",
          "text": [
            "Model: \"sequential\"\n",
            "_________________________________________________________________\n",
            " Layer (type)                Output Shape              Param #   \n",
            "=================================================================\n",
            " conv2d (Conv2D)             (None, 32, 32, 32)        896       \n",
            "                                                                 \n",
            " activation (Activation)     (None, 32, 32, 32)        0         \n",
            "                                                                 \n",
            " batch_normalization (BatchN  (None, 32, 32, 32)       128       \n",
            " ormalization)                                                   \n",
            "                                                                 \n",
            " conv2d_1 (Conv2D)           (None, 32, 32, 32)        9248      \n",
            "                                                                 \n",
            " activation_1 (Activation)   (None, 32, 32, 32)        0         \n",
            "                                                                 \n",
            " batch_normalization_1 (Batc  (None, 32, 32, 32)       128       \n",
            " hNormalization)                                                 \n",
            "                                                                 \n",
            " max_pooling2d (MaxPooling2D  (None, 16, 16, 32)       0         \n",
            " )                                                               \n",
            "                                                                 \n",
            " dropout (Dropout)           (None, 16, 16, 32)        0         \n",
            "                                                                 \n",
            " conv2d_2 (Conv2D)           (None, 16, 16, 64)        18496     \n",
            "                                                                 \n",
            " activation_2 (Activation)   (None, 16, 16, 64)        0         \n",
            "                                                                 \n",
            " batch_normalization_2 (Batc  (None, 16, 16, 64)       256       \n",
            " hNormalization)                                                 \n",
            "                                                                 \n",
            " dropout_1 (Dropout)         (None, 16, 16, 64)        0         \n",
            "                                                                 \n",
            " conv2d_3 (Conv2D)           (None, 16, 16, 64)        36928     \n",
            "                                                                 \n",
            " activation_3 (Activation)   (None, 16, 16, 64)        0         \n",
            "                                                                 \n",
            " batch_normalization_3 (Batc  (None, 16, 16, 64)       256       \n",
            " hNormalization)                                                 \n",
            "                                                                 \n",
            " max_pooling2d_1 (MaxPooling  (None, 8, 8, 64)         0         \n",
            " 2D)                                                             \n",
            "                                                                 \n",
            " dropout_2 (Dropout)         (None, 8, 8, 64)          0         \n",
            "                                                                 \n",
            " conv2d_4 (Conv2D)           (None, 8, 8, 128)         73856     \n",
            "                                                                 \n",
            " activation_4 (Activation)   (None, 8, 8, 128)         0         \n",
            "                                                                 \n",
            " batch_normalization_4 (Batc  (None, 8, 8, 128)        512       \n",
            " hNormalization)                                                 \n",
            "                                                                 \n",
            " conv2d_5 (Conv2D)           (None, 8, 8, 128)         147584    \n",
            "                                                                 \n",
            " activation_5 (Activation)   (None, 8, 8, 128)         0         \n",
            "                                                                 \n",
            " batch_normalization_5 (Batc  (None, 8, 8, 128)        512       \n",
            " hNormalization)                                                 \n",
            "                                                                 \n",
            " max_pooling2d_2 (MaxPooling  (None, 4, 4, 128)        0         \n",
            " 2D)                                                             \n",
            "                                                                 \n",
            " dropout_3 (Dropout)         (None, 4, 4, 128)         0         \n",
            "                                                                 \n",
            " flatten (Flatten)           (None, 2048)              0         \n",
            "                                                                 \n",
            " dense (Dense)               (None, 10)                20490     \n",
            "                                                                 \n",
            "=================================================================\n",
            "Total params: 309,290\n",
            "Trainable params: 308,394\n",
            "Non-trainable params: 896\n",
            "_________________________________________________________________\n"
          ]
        }
      ]
    },
    {
      "cell_type": "code",
      "source": [
        "#Compile the model:\n",
        "model.compile(metrics=[\"accuracy\"],loss=\"categorical_crossentropy\",optimizer=optimizers.Adam())"
      ],
      "metadata": {
        "id": "YCMfdl8stPt4"
      },
      "execution_count": 21,
      "outputs": []
    },
    {
      "cell_type": "code",
      "source": [
        "#Define the checkpoint:\n",
        "checkpoint=ModelCheckpoint(\"best_model.hdf5\",verbose=1,save_best_only=True,monitor=\"val_accuracy\")"
      ],
      "metadata": {
        "id": "nAzxbzO5PLru"
      },
      "execution_count": 24,
      "outputs": []
    },
    {
      "cell_type": "code",
      "source": [
        "#Training the model including the data augmentation and a checkpoint:\n",
        "history=model.fit(datagen.flow(x_train,y_train,batch_size=128),callbacks=[checkpoint],steps_per_epoch=x_train.shape[0]//128,epochs=120,validation_data=(x_valid,y_valid),verbose=2)"
      ],
      "metadata": {
        "colab": {
          "base_uri": "https://localhost:8080/"
        },
        "id": "CdAOcs5xurcK",
        "outputId": "104a0675-04b6-43dc-d922-1999e562ef76"
      },
      "execution_count": 26,
      "outputs": [
        {
          "output_type": "stream",
          "name": "stdout",
          "text": [
            "Epoch 1/5\n",
            "\n",
            "Epoch 1: val_accuracy improved from 0.50260 to 0.57060, saving model to best_model.hdf5\n",
            "351/351 - 23s - loss: 1.3786 - accuracy: 0.5531 - val_loss: 1.3794 - val_accuracy: 0.5706 - 23s/epoch - 66ms/step\n",
            "Epoch 2/5\n",
            "\n",
            "Epoch 2: val_accuracy improved from 0.57060 to 0.62840, saving model to best_model.hdf5\n",
            "351/351 - 23s - loss: 1.2808 - accuracy: 0.5840 - val_loss: 1.1865 - val_accuracy: 0.6284 - 23s/epoch - 65ms/step\n",
            "Epoch 3/5\n",
            "\n",
            "Epoch 3: val_accuracy did not improve from 0.62840\n",
            "351/351 - 23s - loss: 1.2011 - accuracy: 0.6064 - val_loss: 1.2871 - val_accuracy: 0.5978 - 23s/epoch - 66ms/step\n",
            "Epoch 4/5\n",
            "\n",
            "Epoch 4: val_accuracy improved from 0.62840 to 0.65180, saving model to best_model.hdf5\n",
            "351/351 - 23s - loss: 1.1324 - accuracy: 0.6254 - val_loss: 1.1066 - val_accuracy: 0.6518 - 23s/epoch - 65ms/step\n",
            "Epoch 5/5\n",
            "\n",
            "Epoch 5: val_accuracy did not improve from 0.65180\n",
            "351/351 - 23s - loss: 1.0787 - accuracy: 0.6444 - val_loss: 1.1410 - val_accuracy: 0.6412 - 23s/epoch - 65ms/step\n"
          ]
        }
      ]
    },
    {
      "cell_type": "code",
      "source": [
        "#loading_the_best_model:\n",
        "model.load_weights(\"/content/best_model.hdf5\")"
      ],
      "metadata": {
        "id": "_DTlrDgzR0ms"
      },
      "execution_count": 27,
      "outputs": []
    },
    {
      "cell_type": "code",
      "source": [
        "#Plotting the accuracy:\n",
        "plt.plot(history.history[\"accuracy\"],label=\"Training Accuracy\")\n",
        "plt.plot(history.history[\"val_accuracy\"],label=\"Validation Accuracy\")\n",
        "plt.xlabel(\"Epochs\")\n",
        "plt.ylabel(\"Accuracy\")\n",
        "plt.title(\"Accuracy Training Vs Accuracy Validation\")\n",
        "plt.legend(loc=\"best\")"
      ],
      "metadata": {
        "colab": {
          "base_uri": "https://localhost:8080/",
          "height": 312
        },
        "id": "iSrcjpqk1jZU",
        "outputId": "4ae40488-2b7a-46f5-810b-a08f42eea4c1"
      },
      "execution_count": 28,
      "outputs": [
        {
          "output_type": "execute_result",
          "data": {
            "text/plain": [
              "<matplotlib.legend.Legend at 0x7f59403ffc40>"
            ]
          },
          "metadata": {},
          "execution_count": 28
        },
        {
          "output_type": "display_data",
          "data": {
            "text/plain": [
              "<Figure size 432x288 with 1 Axes>"
            ],
            "image/png": "[encoded data removed]"
          },
          "metadata": {
            "needs_background": "light"
          }
        }
      ]
    },
    {
      "cell_type": "code",
      "source": [
        "#Plotting the loss:\n",
        "plt.plot(history.history[\"loss\"],label=\"Training loss\")\n",
        "plt.plot(history.history[\"val_loss\"],label=\"Validation loss\")\n",
        "plt.xlabel(\"Epochs\")\n",
        "plt.ylabel(\"Loss\")\n",
        "plt.title(\"Loss Training Vs Loss Validation\")\n",
        "plt.legend(loc=\"best\")"
      ],
      "metadata": {
        "colab": {
          "base_uri": "https://localhost:8080/",
          "height": 312
        },
        "id": "jUUt5SrK1_Ts",
        "outputId": "4a557f09-5a95-432f-f40c-7bf3556c4e56"
      },
      "execution_count": 29,
      "outputs": [
        {
          "output_type": "execute_result",
          "data": {
            "text/plain": [
              "<matplotlib.legend.Legend at 0x7f5940309340>"
            ]
          },
          "metadata": {},
          "execution_count": 29
        },
        {
          "output_type": "display_data",
          "data": {
            "text/plain": [
              "<Figure size 432x288 with 1 Axes>"
            ],
            "image/png": "[encoded data removed]"
          },
          "metadata": {
            "needs_background": "light"
          }
        }
      ]
    },
    {
      "cell_type": "code",
      "source": [
        "model.evaluate(x_test,y_test)"
      ],
      "metadata": {
        "colab": {
          "base_uri": "https://localhost:8080/"
        },
        "id": "jAs4unPt2i7-",
        "outputId": "e5acb7f1-8bec-4855-909d-fd4bd3333663"
      },
      "execution_count": 30,
      "outputs": [
        {
          "output_type": "stream",
          "name": "stdout",
          "text": [
            "313/313 [==============================] - 2s 5ms/step - loss: 3.5159 - accuracy: 0.1000\n"
          ]
        },
        {
          "output_type": "execute_result",
          "data": {
            "text/plain": [
              "[3.5158886909484863, 0.10000000149011612]"
            ]
          },
          "metadata": {},
          "execution_count": 30
        }
      ]
    },
    {
      "cell_type": "markdown",
      "source": [
        "**Obviously the model will be the more optimus if I put many many epochs**"
      ],
      "metadata": {
        "id": "k19YVNWL2ibO"
      }
    }
  ]
}